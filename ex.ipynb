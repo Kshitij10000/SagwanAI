{
 "cells": [
  {
   "cell_type": "code",
   "execution_count": 14,
   "metadata": {},
   "outputs": [
    {
     "name": "stdout",
     "output_type": "stream",
     "text": [
      "405023\n"
     ]
    }
   ],
   "source": [
    "totp_key = 'UBHIUUOJUD5N47RQ2ZXBCYSUPB4G4WVH'\n",
    "import pyotp as tp\n",
    "\n",
    "k = tp.TOTP(totp_key).now()\n",
    "print(k)"
   ]
  },
  {
   "cell_type": "code",
   "execution_count": 1,
   "metadata": {},
   "outputs": [
    {
     "name": "stdout",
     "output_type": "stream",
     "text": [
      "https://api-t1.fyers.in/api/v3/generate-authcode?client_id=Y25P4GTMHA-100&redirect_uri=https%3A%2F%2Fwww.google.com%2F&response_type=code&state=None\n"
     ]
    }
   ],
   "source": [
    "# Import the required module from the fyers_apiv3 package\n",
    "from fyers_apiv3 import fyersModel\n",
    "\n",
    "# Replace these values with your actual API credentials\n",
    "client_id = \"Y25P4GTMHA-100\"\n",
    "secret_key = \"8FHI854GX9\"\n",
    "redirect_uri = \"https://www.google.com/\"\n",
    "response_type = \"code\"  \n",
    "state = \"sample_state\"\n",
    "\n",
    "# Create a session model with the provided credentials\n",
    "session = fyersModel.SessionModel(\n",
    "    client_id=client_id,\n",
    "    secret_key=secret_key,\n",
    "    redirect_uri=redirect_uri,\n",
    "    response_type=response_type\n",
    ")\n",
    "\n",
    "# Generate the auth code using the session model\n",
    "response = session.generate_authcode()\n",
    "\n",
    "# Print the auth code received in the response\n",
    "print(response)\n",
    "\n"
   ]
  },
  {
   "cell_type": "code",
   "execution_count": 7,
   "metadata": {},
   "outputs": [],
   "source": [
    "url_google = 'https://www.google.com/?s=ok&code=200&auth_code=eyJ0eXAiOiJKV1QiLCJhbGciOiJIUzI1NiJ9.eyJpc3MiOiJhcGkubG9naW4uZnllcnMuaW4iLCJpYXQiOjE3MjgxNDQ3MzcsImV4cCI6MTcyODE3NDczNywibmJmIjoxNzI4MTQ0MTM3LCJhdWQiOiJbXCJ4OjBcIiwgXCJ4OjFcIiwgXCJ4OjJcIiwgXCJkOjFcIiwgXCJkOjJcIiwgXCJ4OjFcIiwgXCJ4OjBcIl0iLCJzdWIiOiJhdXRoX2NvZGUiLCJkaXNwbGF5X25hbWUiOiJYSzAzMDYxIiwib21zIjoiSzEiLCJoc21fa2V5IjoiODlkNjJiZjliYzlhMzI1ZjFmOWI2ZmI1NzAzNjQ0ZDFmZmUyYzI0YTk5Mjc3Y2MyOTM2N2JjMTQiLCJub25jZSI6IiIsImFwcF9pZCI6IlkyNVA0R1RNSEEiLCJ1dWlkIjoiMjAzNWZjY2U5NmIyNGU1YWJmNzM5NTAzMmM4YjU2ZjAiLCJpcEFkZHIiOiIwLjAuMC4wIiwic2NvcGUiOiIifQ.C5PvTDegVTf603PRz3tG0oiIDJ2o19JPxD-_K2nRiU4&state=sample_state'"
   ]
  },
  {
   "cell_type": "code",
   "execution_count": 8,
   "metadata": {},
   "outputs": [
    {
     "data": {
      "text/plain": [
       "'eyJ0eXAiOiJKV1QiLCJhbGciOiJIUzI1NiJ9.eyJpc3MiOiJhcGkubG9naW4uZnllcnMuaW4iLCJpYXQiOjE3MjgxNDQ3MzcsImV4cCI6MTcyODE3NDczNywibmJmIjoxNzI4MTQ0MTM3LCJhdWQiOiJbXCJ4OjBcIiwgXCJ4OjFcIiwgXCJ4OjJcIiwgXCJkOjFcIiwgXCJkOjJcIiwgXCJ4OjFcIiwgXCJ4OjBcIl0iLCJzdWIiOiJhdXRoX2NvZGUiLCJkaXNwbGF5X25hbWUiOiJYSzAzMDYxIiwib21zIjoiSzEiLCJoc21fa2V5IjoiODlkNjJiZjliYzlhMzI1ZjFmOWI2ZmI1NzAzNjQ0ZDFmZmUyYzI0YTk5Mjc3Y2MyOTM2N2JjMTQiLCJub25jZSI6IiIsImFwcF9pZCI6IlkyNVA0R1RNSEEiLCJ1dWlkIjoiMjAzNWZjY2U5NmIyNGU1YWJmNzM5NTAzMmM4YjU2ZjAiLCJpcEFkZHIiOiIwLjAuMC4wIiwic2NvcGUiOiIifQ.C5PvTDegVTf603PRz3tG0oiIDJ2o19JPxD-_K2nRiU4'"
      ]
     },
     "execution_count": 8,
     "metadata": {},
     "output_type": "execute_result"
    }
   ],
   "source": [
    "sl = url_google.split('auth_code=')\n",
    "auth = sl[1].split('&state')[0]\n",
    "auth"
   ]
  },
  {
   "cell_type": "code",
   "execution_count": 9,
   "metadata": {},
   "outputs": [
    {
     "name": "stdout",
     "output_type": "stream",
     "text": [
      "{'s': 'ok', 'code': 200, 'message': '', 'access_token': 'eyJ0eXAiOiJKV1QiLCJhbGciOiJIUzI1NiJ9.eyJpc3MiOiJhcGkuZnllcnMuaW4iLCJpYXQiOjE3MjgxNDQ3NjcsImV4cCI6MTcyODE3NDY0NywibmJmIjoxNzI4MTQ0NzY3LCJhdWQiOlsieDowIiwieDoxIiwieDoyIiwiZDoxIiwiZDoyIiwieDoxIiwieDowIl0sInN1YiI6ImFjY2Vzc190b2tlbiIsImF0X2hhc2giOiJnQUFBQUFCbkFXVl9Yb2hkTGdYQmtUSEZqbUlraXVFQTFDM280NGY5YVhLVktySC1qOUp2R2c5NlRiaUpQSG1vamdVYkZYNkZsYkladXZmbTBSMG1JN0ZZc2NrVWJKZWNVZVRWZmRJOWJ5TV9TQTNuaEdiY1Jkbz0iLCJkaXNwbGF5X25hbWUiOiJLU0hJVElKIERJTElQIFNBUlZFIiwib21zIjoiSzEiLCJoc21fa2V5IjoiODlkNjJiZjliYzlhMzI1ZjFmOWI2ZmI1NzAzNjQ0ZDFmZmUyYzI0YTk5Mjc3Y2MyOTM2N2JjMTQiLCJmeV9pZCI6IlhLMDMwNjEiLCJhcHBUeXBlIjoxMDAsInBvYV9mbGFnIjoiTiJ9.JxxI7AZxI09t6qqs1aWQsykFah9JJvCBf10ty0zVdVo', 'refresh_token': 'eyJ0eXAiOiJKV1QiLCJhbGciOiJIUzI1NiJ9.eyJpc3MiOiJhcGkuZnllcnMuaW4iLCJpYXQiOjE3MjgxNDQ3NjcsImV4cCI6MTcyOTM4NDI0NywibmJmIjoxNzI4MTQ0NzY3LCJhdWQiOlsieDowIiwieDoxIiwieDoyIiwiZDoxIiwiZDoyIiwieDoxIiwieDowIl0sInN1YiI6InJlZnJlc2hfdG9rZW4iLCJhdF9oYXNoIjoiZ0FBQUFBQm5BV1ZfWG9oZExnWEJrVEhGam1Ja2l1RUExQzNvNDRmOWFYS1ZLckgtajlKdkdnOTZUYmlKUEhtb2pnVWJGWDZGbGJJWnV2Zm0wUjBtSTdGWXNja1ViSmVjVWVUVmZkSTlieU1fU0EzbmhHYmNSZG89IiwiZGlzcGxheV9uYW1lIjoiS1NISVRJSiBESUxJUCBTQVJWRSIsIm9tcyI6IksxIiwiaHNtX2tleSI6Ijg5ZDYyYmY5YmM5YTMyNWYxZjliNmZiNTcwMzY0NGQxZmZlMmMyNGE5OTI3N2NjMjkzNjdiYzE0IiwiZnlfaWQiOiJYSzAzMDYxIiwiYXBwVHlwZSI6MTAwLCJwb2FfZmxhZyI6Ik4ifQ.vd7fzjzYcQQQCpuIoo9qe6qi-_mveswdkqRSeLm4at0'}\n"
     ]
    }
   ],
   "source": [
    "from fyers_apiv3 import fyersModel\n",
    "\n",
    "# # Define your Fyers API credentials\n",
    "# client_id = \"SPXXXXE7-100\"  # Replace with your client ID\n",
    "# secret_key = \"N********B\"  # Replace with your secret key\n",
    "# redirect_uri = \"https://trade.fyers.in/api-login/redirect-uri/index.html\"  # Replace with your redirect URI\n",
    "# response_type = \"code\" \n",
    "grant_type = \"authorization_code\"  \n",
    "\n",
    "# The authorization code received from Fyers after the user grants access\n",
    "auth_code = auth\n",
    "\n",
    "# Create a session object to handle the Fyers API authentication and token generation\n",
    "session = fyersModel.SessionModel(\n",
    "    client_id=client_id,\n",
    "    secret_key=secret_key, \n",
    "    redirect_uri=redirect_uri, \n",
    "    response_type=response_type, \n",
    "    grant_type=grant_type\n",
    ")\n",
    "\n",
    "# Set the authorization code in the session object\n",
    "session.set_token(auth_code)\n",
    "\n",
    "# Generate the access token using the authorization code\n",
    "response = session.generate_token()\n",
    "\n",
    "# Print the response, which should contain the access token and other details\n",
    "print(response)"
   ]
  },
  {
   "cell_type": "code",
   "execution_count": 10,
   "metadata": {},
   "outputs": [],
   "source": [
    "access_token = response['access_token']"
   ]
  },
  {
   "cell_type": "markdown",
   "metadata": {},
   "source": [
    "to get profile data"
   ]
  },
  {
   "cell_type": "code",
   "execution_count": 11,
   "metadata": {},
   "outputs": [
    {
     "name": "stdout",
     "output_type": "stream",
     "text": [
      "fy_id: XK03061\n",
      "name: KSHITIJ DILIP SARVE\n"
     ]
    }
   ],
   "source": [
    "# Initialize the FyersModel instance with your client_id, access_token, and enable async mode\n",
    "fyers = fyersModel.FyersModel(client_id=client_id, is_async=False, token=access_token, log_path=\"\")\n",
    "\n",
    "# Make a request to get the user profile information\n",
    "response = fyers.get_profile()\n",
    "\n",
    "# Iterate over key-value pairs in the response['data']\n",
    "for key, value in response['data'].items():\n",
    "    if key == 'image':\n",
    "        break\n",
    "    else:\n",
    "        print(f\"{key}: {value}\")\n"
   ]
  },
  {
   "cell_type": "code",
   "execution_count": 34,
   "metadata": {},
   "outputs": [
    {
     "name": "stdout",
     "output_type": "stream",
     "text": [
      "<coroutine object FyersServiceAsync.get_async_call at 0x000001AC39356FC0>\n"
     ]
    },
    {
     "name": "stderr",
     "output_type": "stream",
     "text": [
      "C:\\Users\\kshit\\AppData\\Local\\Temp\\ipykernel_11204\\2386747690.py:5: RuntimeWarning: coroutine 'FyersServiceAsync.get_async_call' was never awaited\n",
      "  response = fyers.funds()\n",
      "RuntimeWarning: Enable tracemalloc to get the object allocation traceback\n"
     ]
    }
   ],
   "source": [
    "# Initialize the FyersModel instance with your client_id, access_token, and enable async mode\n",
    "fyers = fyersModel.FyersModel(client_id=client_id, token=access_token,is_async=True, log_path=\"\")\n",
    "\n",
    "# Make a request to get the funds information\n",
    "response = fyers.funds()\n",
    "print(response)"
   ]
  },
  {
   "cell_type": "code",
   "execution_count": 12,
   "metadata": {},
   "outputs": [
    {
     "name": "stdout",
     "output_type": "stream",
     "text": [
      "{'code': 200, 'message': '', 's': 'ok', 'overall': {'count_total': 0, 'pnl_perc': 0, 'total_current_value': 0, 'total_investment': 0, 'total_pl': 0}, 'holdings': []}\n"
     ]
    }
   ],
   "source": [
    "# Initialize the FyersModel instance with your client_id, access_token, and enable async mode\n",
    "fyers = fyersModel.FyersModel(client_id=client_id, token=access_token,is_async=False, log_path=\"\")\n",
    "\n",
    "response = fyers.holdings()\n",
    "print(response)"
   ]
  },
  {
   "cell_type": "code",
   "execution_count": 13,
   "metadata": {},
   "outputs": [
    {
     "name": "stdout",
     "output_type": "stream",
     "text": [
      "{'code': 200, 'message': '', 's': 'ok', 'orderBook': []}\n"
     ]
    }
   ],
   "source": [
    "# Initialize the FyersModel instance with your client_id, access_token, and enable async mode\n",
    "fyers = fyersModel.FyersModel(client_id=client_id, token=access_token,is_async=False, log_path=\"\")\n",
    "\n",
    "response = fyers.orderbook()\n",
    "print(response)"
   ]
  },
  {
   "cell_type": "code",
   "execution_count": 38,
   "metadata": {},
   "outputs": [
    {
     "name": "stdout",
     "output_type": "stream",
     "text": [
      "{'code': 200, 'message': '', 's': 'ok', 'tradeBook': []}\n"
     ]
    }
   ],
   "source": [
    "# Initialize the FyersModel instance with your client_id, access_token, and enable async mode\n",
    "fyers = fyersModel.FyersModel(client_id=client_id, token=access_token,is_async=False, log_path=\"\")\n",
    "\n",
    "response = fyers.tradebook()\n",
    "print(response)"
   ]
  },
  {
   "cell_type": "code",
   "execution_count": 39,
   "metadata": {},
   "outputs": [
    {
     "name": "stdout",
     "output_type": "stream",
     "text": [
      "{'code': -99, 'message': \"RED:'MIS' Orders are disallowed after system square off\", 's': 'error', 'id': '24100100521165'}\n"
     ]
    }
   ],
   "source": [
    "# Initialize the FyersModel instance with your client_id, access_token, and enable async mode\n",
    "fyers = fyersModel.FyersModel(client_id=client_id, token=access_token,is_async=False, log_path=\"\")\n",
    "\n",
    "data = {\n",
    "    \"symbol\":\"NSE:IDEA-EQ\",\n",
    "    \"qty\":1,\n",
    "    \"type\":2,\n",
    "    \"side\":1,\n",
    "    \"productType\":\"INTRADAY\",\n",
    "    \"limitPrice\":0,\n",
    "    \"stopPrice\":0,\n",
    "    \"validity\":\"DAY\",\n",
    "    \"disclosedQty\":0,\n",
    "    \"offlineOrder\":False,\n",
    "    \"orderTag\":\"tag1\"\n",
    "}\n",
    "response = fyers.place_order(data=data)\n",
    "print(response)"
   ]
  },
  {
   "cell_type": "code",
   "execution_count": 40,
   "metadata": {},
   "outputs": [
    {
     "name": "stdout",
     "output_type": "stream",
     "text": [
      "{'code': 200, 'message': '', 'data': [{'statusCode': 200, 'body': {'code': -99, 'message': \"RED:'MIS' Orders are disallowed after system square off\", 's': 'error', 'id': '24100100521167'}, 'statusDescription': 'OK'}, {'statusCode': 200, 'body': {'code': -99, 'message': \"RED:'MIS' Orders are disallowed after system square off\", 's': 'error', 'id': '24100100521168'}, 'statusDescription': 'OK'}, {'statusCode': 200, 'body': {'code': -99, 'message': \"RED:'MIS' Orders are disallowed after system square off\", 's': 'error', 'id': '24100100521169'}, 'statusDescription': 'OK'}, {'statusCode': 200, 'body': {'code': -99, 'message': \"RED:'MIS' Orders are disallowed after system square off\", 's': 'error', 'id': '24100100521170'}, 'statusDescription': 'OK'}], 's': 'ok'}\n"
     ]
    }
   ],
   "source": [
    "fyers = fyersModel.FyersModel(client_id=client_id, token=access_token,is_async=False, log_path=\"\")\n",
    "\n",
    "data = [{\n",
    "    \"symbol\":\"NSE:SBIN-EQ\",\n",
    "    \"qty\":1,\n",
    "    \"type\":2,\n",
    "    \"side\":1,\n",
    "    \"productType\":\"INTRADAY\",\n",
    "    \"limitPrice\":0,\n",
    "    \"stopPrice\":0,\n",
    "    \"validity\":\"DAY\",\n",
    "    \"disclosedQty\":0,\n",
    "    \"offlineOrder\":False,\n",
    "},\n",
    "{\n",
    "    \"symbol\":\"NSE:IDEA-EQ\",\n",
    "    \"qty\":1,\n",
    "    \"type\":2,\n",
    "    \"side\":1,\n",
    "    \"productType\":\"INTRADAY\",\n",
    "    \"limitPrice\":0,\n",
    "    \"stopPrice\":0,\n",
    "    \"validity\":\"DAY\",\n",
    "    \"disclosedQty\":0,\n",
    "    \"offlineOrder\":False,\n",
    "},{\n",
    "    \"symbol\":\"NSE:SBIN-EQ\",\n",
    "    \"qty\":1,\n",
    "    \"type\":2,\n",
    "    \"side\":1,\n",
    "    \"productType\":\"INTRADAY\",\n",
    "    \"limitPrice\":0,\n",
    "    \"stopPrice\":0,\n",
    "    \"validity\":\"DAY\",\n",
    "    \"disclosedQty\":0,\n",
    "    \"offlineOrder\":False,\n",
    "},\n",
    "{\n",
    "    \"symbol\":\"NSE:IDEA-EQ\",\n",
    "    \"qty\":1,\n",
    "    \"type\":2,\n",
    "    \"side\":1,\n",
    "    \"productType\":\"INTRADAY\",\n",
    "    \"limitPrice\":0,\n",
    "    \"stopPrice\":0,\n",
    "    \"validity\":\"DAY\",\n",
    "    \"disclosedQty\":0,\n",
    "    \"offlineOrder\":False,\n",
    "}]\n",
    "\n",
    "response = fyers.place_basket_orders(data=data)\n",
    "print(response)"
   ]
  },
  {
   "cell_type": "code",
   "execution_count": 41,
   "metadata": {},
   "outputs": [
    {
     "ename": "SyntaxError",
     "evalue": "unmatched ')' (3163485789.py, line 14)",
     "output_type": "error",
     "traceback": [
      "\u001b[1;36m  Cell \u001b[1;32mIn[41], line 14\u001b[1;36m\u001b[0m\n\u001b[1;33m    print(response))\u001b[0m\n\u001b[1;37m                   ^\u001b[0m\n\u001b[1;31mSyntaxError\u001b[0m\u001b[1;31m:\u001b[0m unmatched ')'\n"
     ]
    }
   ],
   "source": [
    "\n",
    "# Initialize the FyersModel instance with your client_id, access_token, and enable async mode\n",
    "fyers = fyersModel.FyersModel(client_id=client_id, token=access_token,is_async=True, log_path=\"\")\n",
    "\n",
    "\n",
    "orderId = \"8102710298291\"\n",
    "data = {\n",
    "    \"id\":orderId, \n",
    "    \"type\":1, \n",
    "    \"limitPrice\": 61049, \n",
    "    \"qty\":1\n",
    "}\n",
    "\n",
    "response = fyers.modify_order(data=data)\n",
    "print(response))\n"
   ]
  },
  {
   "cell_type": "code",
   "execution_count": 42,
   "metadata": {},
   "outputs": [
    {
     "name": "stdout",
     "output_type": "stream",
     "text": [
      "{'code': -51, 'message': 'invalid order id: 808058117761', 's': 'error', 'id': '808058117761'}\n"
     ]
    }
   ],
   "source": [
    "# Initialize the FyersModel instance with your client_id, access_token, and enable async mode\n",
    "fyers = fyersModel.FyersModel(client_id=client_id, is_async=False, token=access_token, log_path=\"\")\n",
    "\n",
    "\n",
    "data = {\"id\":'808058117761'}\n",
    "\n",
    "response = fyers.cancel_order(data=data)\n",
    "print(response)"
   ]
  },
  {
   "cell_type": "code",
   "execution_count": 43,
   "metadata": {},
   "outputs": [
    {
     "name": "stdout",
     "output_type": "stream",
     "text": [
      "{'code': -352, 'message': 'Looks like you have no open positions.', 's': 'error'}\n"
     ]
    }
   ],
   "source": [
    "# Initialize the FyersModel instance with your client_id, access_token, and enable async mode\n",
    "fyers = fyersModel.FyersModel(client_id=client_id, token=access_token,is_async=False, log_path=\"\")\n",
    "\n",
    "data = {}\n",
    "\n",
    "response = fyers.exit_positions(data=data)\n",
    "\n",
    "print(response)"
   ]
  },
  {
   "cell_type": "code",
   "execution_count": 44,
   "metadata": {},
   "outputs": [
    {
     "name": "stdout",
     "output_type": "stream",
     "text": [
      "{'code': -352, 'message': 'Looks like you have no open positions.', 's': 'error'}\n"
     ]
    }
   ],
   "source": [
    "# Initialize the FyersModel instance with your client_id, access_token, and enable async mode\n",
    "fyers = fyersModel.FyersModel(client_id=client_id, token=access_token,is_async=False, log_path=\"\")\n",
    "\n",
    "data = {\n",
    "    \"id\":\"NSE:SBIN-EQ-BO\"\n",
    "}\n",
    "\n",
    "response = fyers.exit_positions(data=data)\n",
    "print(response)"
   ]
  },
  {
   "cell_type": "code",
   "execution_count": 46,
   "metadata": {},
   "outputs": [
    {
     "name": "stdout",
     "output_type": "stream",
     "text": [
      "{'code': -352, 'message': 'Looks like you have no open positions.', 's': 'error'}\n"
     ]
    }
   ],
   "source": [
    "fyers = fyersModel.FyersModel(client_id=client_id, token=access_token, log_path=\"\")\n",
    "data = {\n",
    "    \"segment\":[10],\n",
    "    \"side\":[1,-1],\n",
    "    \"productType\":[\"INTRADAY\",\"CNC\"]\n",
    "   }\n",
    "\n",
    "response = fyers.exit_positions(data=data)\n",
    "print(response)"
   ]
  },
  {
   "cell_type": "code",
   "execution_count": 47,
   "metadata": {},
   "outputs": [
    {
     "name": "stdout",
     "output_type": "stream",
     "text": [
      "{'code': -53, 'message': 'invalid position id: MCX:SILVERMIC20NOVFUT', 's': 'error'}\n"
     ]
    }
   ],
   "source": [
    "# Initialize the FyersModel instance with your client_id, access_token, and enable async mode\n",
    "fyers = fyersModel.FyersModel(client_id=client_id, token=access_token,is_async=False, log_path=\"\")\n",
    "\n",
    "\n",
    "data = {\n",
    "    \"symbol\":\"MCX:SILVERMIC20NOVFUT\",\n",
    "    \"positionSide\":1,\n",
    "    \"convertQty\":1,\n",
    "    \"convertFrom\":\"INTRADAY\",\n",
    "    \"convertTo\":\"CNC\"\n",
    "}\n",
    "\n",
    "response = fyers.convert_position(data=data)\n",
    "print(response)"
   ]
  },
  {
   "cell_type": "code",
   "execution_count": 48,
   "metadata": {},
   "outputs": [
    {
     "name": "stdout",
     "output_type": "stream",
     "text": [
      "{'code': 200, 'marketStatus': [{'exchange': 10, 'market_type': 'NORMAL', 'segment': 11, 'status': 'CLOSED'}, {'exchange': 10, 'market_type': 'NORMAL', 'segment': 12, 'status': 'CLOSED'}, {'exchange': 10, 'market_type': 'NORMAL', 'segment': 20, 'status': 'CLOSED'}, {'exchange': 10, 'market_type': 'NORMAL', 'segment': 10, 'status': 'POSTCLOSE_CLOSED'}, {'exchange': 10, 'market_type': 'ODD_LOT', 'segment': 10, 'status': 'CLOSED'}, {'exchange': 10, 'market_type': 'CALL_AUCTION2', 'segment': 10, 'status': 'CLOSED'}, {'exchange': 10, 'market_type': 'AUCTION', 'segment': 10, 'status': 'CLOSED'}, {'exchange': 11, 'market_type': 'NORMAL', 'segment': 20, 'status': 'CLOSED'}, {'exchange': 12, 'market_type': 'NORMAL', 'segment': 11, 'status': 'POSTCLOSE_CLOSED'}, {'exchange': 12, 'market_type': 'NORMAL', 'segment': 12, 'status': 'POSTCLOSE_CLOSED'}, {'exchange': 12, 'market_type': 'NORMAL', 'segment': 10, 'status': 'POSTCLOSE_CLOSED'}, {'exchange': 12, 'market_type': 'AUCTION', 'segment': 10, 'status': 'CLOSED'}], 'message': '', 's': 'ok'}\n"
     ]
    }
   ],
   "source": [
    "fyers = fyersModel.FyersModel(client_id=client_id, token=access_token,is_async=False, log_path=\"\")\n",
    "\n",
    "\n",
    "response = fyers.market_status()\n",
    "print(response)"
   ]
  },
  {
   "cell_type": "code",
   "execution_count": 49,
   "metadata": {},
   "outputs": [
    {
     "name": "stdout",
     "output_type": "stream",
     "text": [
      "{'candles': [[1690848000, 620.2, 620.85, 610.6, 611.85, 13493453], [1690934400, 609.85, 610.5, 594.1, 598.45, 14977497], [1691020800, 598.7, 600.85, 585, 590.5, 27774877]], 'code': 200, 'message': '', 's': 'ok'}\n"
     ]
    }
   ],
   "source": [
    "# Initialize the FyersModel instance with your client_id, access_token, and enable async mode\n",
    "fyers = fyersModel.FyersModel(client_id=client_id, is_async=False, token=access_token, log_path=\"\")\n",
    "\n",
    "data = {\n",
    "    \"symbol\":\"NSE:SBIN-EQ\",\n",
    "    \"resolution\":\"D\",\n",
    "    \"date_format\":\"0\",\n",
    "    \"range_from\":\"1690895316\",\n",
    "    \"range_to\":\"1691068173\",\n",
    "    \"cont_flag\":\"1\"\n",
    "}\n",
    "\n",
    "response = fyers.history(data=data)\n",
    "print(response)"
   ]
  },
  {
   "cell_type": "code",
   "execution_count": 50,
   "metadata": {},
   "outputs": [
    {
     "name": "stdout",
     "output_type": "stream",
     "text": [
      "{'code': 200, 'data': {'callOi': 6793675, 'expiryData': [{'date': '31-10-2024', 'expiry': '1730368800'}, {'date': '28-11-2024', 'expiry': '1732788000'}, {'date': '26-12-2024', 'expiry': '1735207200'}], 'indiavixData': {'ask': 0, 'bid': 0, 'description': 'INDIAVIX-INDEX', 'ex_symbol': 'INDIAVIX', 'exchange': 'NSE', 'fyToken': '101000000026017', 'ltp': 11.99, 'ltpch': -0.8, 'ltpchp': -6.25, 'option_type': '', 'strike_price': -1, 'symbol': 'NSE:INDIAVIX-INDEX'}, 'optionsChain': [{'ask': 4287.9, 'bid': 0, 'description': 'TATA CONSULTANCY SERV LT', 'ex_symbol': 'TCS', 'exchange': 'NSE', 'fp': 4292.3, 'fpch': 2.5, 'fpchp': 0.06, 'fyToken': '101000000011536', 'ltp': 4287.9, 'ltpch': 19.4, 'ltpchp': 0.45, 'option_type': '', 'strike_price': -1, 'symbol': 'NSE:TCS-EQ'}, {'ask': 95.95, 'bid': 94.85, 'fyToken': '1011241031126039', 'ltp': 95.15, 'ltpch': -2.95, 'ltpchp': -3.01, 'oi': 268275, 'oich': 79100, 'oichp': 41.81, 'option_type': 'PE', 'prev_oi': 189175, 'strike_price': 4250, 'symbol': 'NSE:TCS24OCT4250PE', 'volume': 366100}, {'ask': 139.95, 'bid': 139, 'fyToken': '1011241031126036', 'ltp': 139.05, 'ltpch': -1.5, 'ltpchp': -1.07, 'oi': 283150, 'oich': 22925, 'oichp': 8.81, 'option_type': 'CE', 'prev_oi': 260225, 'strike_price': 4250, 'symbol': 'NSE:TCS24OCT4250CE', 'volume': 495425}, {'ask': 119, 'bid': 117.8, 'fyToken': '1011241031103300', 'ltp': 118.95, 'ltpch': -2.75, 'ltpchp': -2.26, 'oi': 817075, 'oich': 51275, 'oichp': 6.7, 'option_type': 'PE', 'prev_oi': 765800, 'strike_price': 4300, 'symbol': 'NSE:TCS24OCT4300PE', 'volume': 575400}, {'ask': 113.55, 'bid': 113, 'fyToken': '1011241031103290', 'ltp': 113, 'ltpch': -1.55, 'ltpchp': -1.35, 'oi': 1073275, 'oich': 119350, 'oichp': 12.51, 'option_type': 'CE', 'prev_oi': 953925, 'strike_price': 4300, 'symbol': 'NSE:TCS24OCT4300CE', 'volume': 1616475}, {'ask': 91.15, 'bid': 90.5, 'fyToken': '1011241031126040', 'ltp': 90.9, 'ltpch': -1.15, 'ltpchp': -1.25, 'oi': 469700, 'oich': 18025, 'oichp': 3.99, 'option_type': 'CE', 'prev_oi': 451675, 'strike_price': 4350, 'symbol': 'NSE:TCS24OCT4350CE', 'volume': 443625}, {'ask': 146.5, 'bid': 144.15, 'fyToken': '1011241031126043', 'ltp': 146.55, 'ltpch': -2.4, 'ltpchp': -1.61, 'oi': 176050, 'oich': 8050, 'oichp': 4.79, 'option_type': 'PE', 'prev_oi': 168000, 'strike_price': 4350, 'symbol': 'NSE:TCS24OCT4350PE', 'volume': 70525}], 'putOi': 4766300}, 'message': '', 's': 'ok'}\n"
     ]
    }
   ],
   "source": [
    "fyers = fyersModel.FyersModel(client_id=client_id, token=access_token,is_async=False, log_path=\"\")\n",
    "data = {\n",
    "    \"symbol\":\"NSE:TCS-EQ\",\n",
    "    \"strikecount\":1,\n",
    "    \"timestamp\": \"\"\n",
    "}\n",
    "response = fyers.optionchain(data=data);\n",
    "print(response)"
   ]
  },
  {
   "cell_type": "code",
   "execution_count": 51,
   "metadata": {},
   "outputs": [
    {
     "ename": "ModuleNotFoundError",
     "evalue": "No module named 'pkg_resources'",
     "output_type": "error",
     "traceback": [
      "\u001b[1;31m---------------------------------------------------------------------------\u001b[0m",
      "\u001b[1;31mModuleNotFoundError\u001b[0m                       Traceback (most recent call last)",
      "Cell \u001b[1;32mIn[51], line 1\u001b[0m\n\u001b[1;32m----> 1\u001b[0m \u001b[38;5;28;01mfrom\u001b[39;00m \u001b[38;5;21;01mfyers_apiv3\u001b[39;00m\u001b[38;5;21;01m.\u001b[39;00m\u001b[38;5;21;01mFyersWebsocket\u001b[39;00m \u001b[38;5;28;01mimport\u001b[39;00m data_ws\n\u001b[0;32m      3\u001b[0m fyers \u001b[38;5;241m=\u001b[39m data_ws\u001b[38;5;241m.\u001b[39mFyersDataSocket(\n\u001b[0;32m      4\u001b[0m     access_token\u001b[38;5;241m=\u001b[39maccess_token,       \u001b[38;5;66;03m# Access token in the format \"appid:accesstoken\"\u001b[39;00m\n\u001b[0;32m      5\u001b[0m     log_path\u001b[38;5;241m=\u001b[39m\u001b[38;5;124m\"\u001b[39m\u001b[38;5;124m\"\u001b[39m,                     \u001b[38;5;66;03m# Path to save logs. Leave empty to auto-create logs in the current directory.\u001b[39;00m\n\u001b[1;32m   (...)\u001b[0m\n\u001b[0;32m     13\u001b[0m     reconnect_retry\u001b[38;5;241m=\u001b[39m\u001b[38;5;241m10\u001b[39m               \u001b[38;5;66;03m# Number of times reconnection will be attepmted in case\u001b[39;00m\n\u001b[0;32m     14\u001b[0m )\n",
      "File \u001b[1;32mc:\\Users\\kshit\\Desktop\\basic\\Django\\.venv\\Lib\\site-packages\\fyers_apiv3\\FyersWebsocket\\data_ws.py:7\u001b[0m\n\u001b[0;32m      4\u001b[0m \u001b[38;5;28;01mimport\u001b[39;00m \u001b[38;5;21;01mtime\u001b[39;00m\n\u001b[0;32m      5\u001b[0m \u001b[38;5;28;01mfrom\u001b[39;00m \u001b[38;5;21;01mtyping\u001b[39;00m \u001b[38;5;28;01mimport\u001b[39;00m Optional, Callable\n\u001b[1;32m----> 7\u001b[0m \u001b[38;5;28;01mfrom\u001b[39;00m \u001b[38;5;21;01mpkg_resources\u001b[39;00m \u001b[38;5;28;01mimport\u001b[39;00m resource_filename\n\u001b[0;32m      8\u001b[0m \u001b[38;5;28;01mimport\u001b[39;00m \u001b[38;5;21;01mrequests\u001b[39;00m\n\u001b[0;32m      9\u001b[0m \u001b[38;5;28;01mimport\u001b[39;00m \u001b[38;5;21;01murllib\u001b[39;00m\u001b[38;5;21;01m.\u001b[39;00m\u001b[38;5;21;01mparse\u001b[39;00m\n",
      "\u001b[1;31mModuleNotFoundError\u001b[0m: No module named 'pkg_resources'"
     ]
    }
   ],
   "source": [
    "from fyers_apiv3.FyersWebsocket import data_ws\n",
    "\n",
    "fyers = data_ws.FyersDataSocket(\n",
    "    access_token=access_token,       # Access token in the format \"appid:accesstoken\"\n",
    "    log_path=\"\",                     # Path to save logs. Leave empty to auto-create logs in the current directory.\n",
    "    litemode=False,                  # Lite mode disabled. Set to True if you want a lite response.\n",
    "    write_to_file=False,              # Save response in a log file instead of printing it.\n",
    "    reconnect=True,                  # Enable auto-reconnection to WebSocket on disconnection.\n",
    "    on_connect=onopen,               # Callback function to subscribe to data upon connection.\n",
    "    on_close=onclose,                # Callback function to handle WebSocket connection close events.\n",
    "    on_error=onerror,                # Callback function to handle WebSocket errors.\n",
    "    on_message=onmessage,            # Callback function to handle incoming messages from the WebSocket.\n",
    "    reconnect_retry=10               # Number of times reconnection will be attepmted in case\n",
    ")"
   ]
  },
  {
   "cell_type": "code",
   "execution_count": null,
   "metadata": {},
   "outputs": [],
   "source": []
  }
 ],
 "metadata": {
  "kernelspec": {
   "display_name": ".venv",
   "language": "python",
   "name": "python3"
  },
  "language_info": {
   "codemirror_mode": {
    "name": "ipython",
    "version": 3
   },
   "file_extension": ".py",
   "mimetype": "text/x-python",
   "name": "python",
   "nbconvert_exporter": "python",
   "pygments_lexer": "ipython3",
   "version": "3.12.1"
  }
 },
 "nbformat": 4,
 "nbformat_minor": 2
}
