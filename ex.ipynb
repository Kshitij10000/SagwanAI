{
 "cells": [
  {
   "cell_type": "code",
   "execution_count": 37,
   "metadata": {},
   "outputs": [
    {
     "name": "stdout",
     "output_type": "stream",
     "text": [
      "792202\n"
     ]
    }
   ],
   "source": [
    "totp_key = 'UBHIUUOJUD5N47RQ2ZXBCYSUPB4G4WVH'\n",
    "import pyotp as tp\n",
    "\n",
    "k = tp.TOTP(totp_key).now()\n",
    "print(k)"
   ]
  },
  {
   "cell_type": "code",
   "execution_count": 16,
   "metadata": {},
   "outputs": [
    {
     "name": "stdout",
     "output_type": "stream",
     "text": [
      "https://api-t1.fyers.in/api/v3/generate-authcode?client_id=Y25P4GTMHA-100&redirect_uri=https%3A%2F%2Fwww.google.com%2F&response_type=code&state=None\n"
     ]
    }
   ],
   "source": [
    "# Import the required module from the fyers_apiv3 package\n",
    "from fyers_apiv3 import fyersModel\n",
    "\n",
    "# Replace these values with your actual API credentials\n",
    "client_id = \"Y25P4GTMHA-100\"\n",
    "secret_key = \"8FHI854GX9\"\n",
    "redirect_uri = \"https://www.google.com/\"\n",
    "response_type = \"code\"  \n",
    "state = \"sample_state\"\n",
    "\n",
    "# Create a session model with the provided credentials\n",
    "session = fyersModel.SessionModel(\n",
    "    client_id=client_id,\n",
    "    secret_key=secret_key,\n",
    "    redirect_uri=redirect_uri,\n",
    "    response_type=response_type\n",
    ")\n",
    "\n",
    "# Generate the auth code using the session model\n",
    "response = session.generate_authcode()\n",
    "\n",
    "# Print the auth code received in the response\n",
    "print(response)\n",
    "\n"
   ]
  },
  {
   "cell_type": "code",
   "execution_count": 17,
   "metadata": {},
   "outputs": [],
   "source": [
    "url_google = 'https://www.google.com/?s=ok&code=200&auth_code=eyJ0eXAiOiJKV1QiLCJhbGciOiJIUzI1NiJ9.eyJpc3MiOiJhcGkubG9naW4uZnllcnMuaW4iLCJpYXQiOjE3Mjg0MTczNjUsImV4cCI6MTcyODQ0NzM2NSwibmJmIjoxNzI4NDE2NzY1LCJhdWQiOiJbXCJ4OjBcIiwgXCJ4OjFcIiwgXCJ4OjJcIiwgXCJkOjFcIiwgXCJkOjJcIiwgXCJ4OjFcIiwgXCJ4OjBcIl0iLCJzdWIiOiJhdXRoX2NvZGUiLCJkaXNwbGF5X25hbWUiOiJYSzAzMDYxIiwib21zIjoiSzEiLCJoc21fa2V5IjoiZjk3YmNjODgyZWM5MWUxNDA5NTU3NWE2NGM5MmQ0M2Y4MDkzYmU0MDE5NmIzMGI2YTlmNDU2MWIiLCJub25jZSI6IiIsImFwcF9pZCI6IlkyNVA0R1RNSEEiLCJ1dWlkIjoiZWQzYTY4MTQ4NWJjNDM2ZmE4YWU5MWVkODUwNjllZTgiLCJpcEFkZHIiOiIwLjAuMC4wIiwic2NvcGUiOiIifQ.7rmo9wj6bgZ9gMeL6v-ms5R-LD_f9z0cEdqp4QGWxTQ&state=None'"
   ]
  },
  {
   "cell_type": "code",
   "execution_count": 18,
   "metadata": {},
   "outputs": [
    {
     "data": {
      "text/plain": [
       "'eyJ0eXAiOiJKV1QiLCJhbGciOiJIUzI1NiJ9.eyJpc3MiOiJhcGkubG9naW4uZnllcnMuaW4iLCJpYXQiOjE3Mjg0MTczNjUsImV4cCI6MTcyODQ0NzM2NSwibmJmIjoxNzI4NDE2NzY1LCJhdWQiOiJbXCJ4OjBcIiwgXCJ4OjFcIiwgXCJ4OjJcIiwgXCJkOjFcIiwgXCJkOjJcIiwgXCJ4OjFcIiwgXCJ4OjBcIl0iLCJzdWIiOiJhdXRoX2NvZGUiLCJkaXNwbGF5X25hbWUiOiJYSzAzMDYxIiwib21zIjoiSzEiLCJoc21fa2V5IjoiZjk3YmNjODgyZWM5MWUxNDA5NTU3NWE2NGM5MmQ0M2Y4MDkzYmU0MDE5NmIzMGI2YTlmNDU2MWIiLCJub25jZSI6IiIsImFwcF9pZCI6IlkyNVA0R1RNSEEiLCJ1dWlkIjoiZWQzYTY4MTQ4NWJjNDM2ZmE4YWU5MWVkODUwNjllZTgiLCJpcEFkZHIiOiIwLjAuMC4wIiwic2NvcGUiOiIifQ.7rmo9wj6bgZ9gMeL6v-ms5R-LD_f9z0cEdqp4QGWxTQ'"
      ]
     },
     "execution_count": 18,
     "metadata": {},
     "output_type": "execute_result"
    }
   ],
   "source": [
    "sl = url_google.split('auth_code=')\n",
    "auth = sl[1].split('&state')[0]\n",
    "auth"
   ]
  },
  {
   "cell_type": "code",
   "execution_count": 19,
   "metadata": {},
   "outputs": [
    {
     "name": "stdout",
     "output_type": "stream",
     "text": [
      "{'s': 'ok', 'code': 200, 'message': '', 'access_token': 'eyJ0eXAiOiJKV1QiLCJhbGciOiJIUzI1NiJ9.eyJpc3MiOiJhcGkuZnllcnMuaW4iLCJpYXQiOjE3Mjg0MTczODMsImV4cCI6MTcyODQzMzgyMywibmJmIjoxNzI4NDE3MzgzLCJhdWQiOlsieDowIiwieDoxIiwieDoyIiwiZDoxIiwiZDoyIiwieDoxIiwieDowIl0sInN1YiI6ImFjY2Vzc190b2tlbiIsImF0X2hhc2giOiJnQUFBQUFCbkJZNW5BQlhXWUJNX1ZVQXVOZDlPM2xabV9JVDR2Q1RTUF9MelFCam9lVVJaUUpfT09oYkxyT3ZGb2w2X0RfVDFvZjZ3Rnl6TVlOYUhkUkxoUGR4UW5FTzFWQVQ5ejloWEtFS0xsVzRRQjIzTEg0az0iLCJkaXNwbGF5X25hbWUiOiJLU0hJVElKIERJTElQIFNBUlZFIiwib21zIjoiSzEiLCJoc21fa2V5IjoiZjk3YmNjODgyZWM5MWUxNDA5NTU3NWE2NGM5MmQ0M2Y4MDkzYmU0MDE5NmIzMGI2YTlmNDU2MWIiLCJmeV9pZCI6IlhLMDMwNjEiLCJhcHBUeXBlIjoxMDAsInBvYV9mbGFnIjoiTiJ9.Fn8VtRBHlDcu8tk0Oi06F0NM4GGYIKM9DaQxIT3KQHw', 'refresh_token': 'eyJ0eXAiOiJKV1QiLCJhbGciOiJIUzI1NiJ9.eyJpc3MiOiJhcGkuZnllcnMuaW4iLCJpYXQiOjE3Mjg0MTczODMsImV4cCI6MTcyOTY0MzQyMywibmJmIjoxNzI4NDE3MzgzLCJhdWQiOlsieDowIiwieDoxIiwieDoyIiwiZDoxIiwiZDoyIiwieDoxIiwieDowIl0sInN1YiI6InJlZnJlc2hfdG9rZW4iLCJhdF9oYXNoIjoiZ0FBQUFBQm5CWTVuQUJYV1lCTV9WVUF1TmQ5TzNsWm1fSVQ0dkNUU1BfTHpRQmpvZVVSWlFKX09PaGJMck92Rm9sNl9EX1Qxb2Y2d0Z5ek1ZTmFIZFJMaFBkeFFuRU8xVkFUOXo5aFhLRUtMbFc0UUIyM0xINGs9IiwiZGlzcGxheV9uYW1lIjoiS1NISVRJSiBESUxJUCBTQVJWRSIsIm9tcyI6IksxIiwiaHNtX2tleSI6ImY5N2JjYzg4MmVjOTFlMTQwOTU1NzVhNjRjOTJkNDNmODA5M2JlNDAxOTZiMzBiNmE5ZjQ1NjFiIiwiZnlfaWQiOiJYSzAzMDYxIiwiYXBwVHlwZSI6MTAwLCJwb2FfZmxhZyI6Ik4ifQ.WC1JBbhk0nWBRXs31a0wIL8EX-6FBv4dazDbGRjpDqQ'}\n"
     ]
    }
   ],
   "source": [
    "from fyers_apiv3 import fyersModel\n",
    "\n",
    "# # Define your Fyers API credentials\n",
    "# client_id = \"SPXXXXE7-100\"  # Replace with your client ID\n",
    "# secret_key = \"N********B\"  # Replace with your secret key\n",
    "# redirect_uri = \"https://trade.fyers.in/api-login/redirect-uri/index.html\"  # Replace with your redirect URI\n",
    "# response_type = \"code\" \n",
    "grant_type = \"authorization_code\"  \n",
    "\n",
    "# The authorization code received from Fyers after the user grants access\n",
    "auth_code = auth\n",
    "\n",
    "# Create a session object to handle the Fyers API authentication and token generation\n",
    "session = fyersModel.SessionModel(\n",
    "    client_id=client_id,\n",
    "    secret_key=secret_key, \n",
    "    redirect_uri=redirect_uri, \n",
    "    response_type=response_type, \n",
    "    grant_type=grant_type\n",
    ")\n",
    "\n",
    "# Set the authorization code in the session object\n",
    "session.set_token(auth_code)\n",
    "\n",
    "# Generate the access token using the authorization code\n",
    "response = session.generate_token()\n",
    "\n",
    "# Print the response, which should contain the access token and other details\n",
    "print(response)"
   ]
  },
  {
   "cell_type": "code",
   "execution_count": 20,
   "metadata": {},
   "outputs": [],
   "source": [
    "access_token = response['access_token']"
   ]
  },
  {
   "cell_type": "code",
   "execution_count": 21,
   "metadata": {},
   "outputs": [
    {
     "name": "stdout",
     "output_type": "stream",
     "text": [
      "eyJ0eXAiOiJKV1QiLCJhbGciOiJIUzI1NiJ9.eyJpc3MiOiJhcGkuZnllcnMuaW4iLCJpYXQiOjE3Mjg0MTczODMsImV4cCI6MTcyODQzMzgyMywibmJmIjoxNzI4NDE3MzgzLCJhdWQiOlsieDowIiwieDoxIiwieDoyIiwiZDoxIiwiZDoyIiwieDoxIiwieDowIl0sInN1YiI6ImFjY2Vzc190b2tlbiIsImF0X2hhc2giOiJnQUFBQUFCbkJZNW5BQlhXWUJNX1ZVQXVOZDlPM2xabV9JVDR2Q1RTUF9MelFCam9lVVJaUUpfT09oYkxyT3ZGb2w2X0RfVDFvZjZ3Rnl6TVlOYUhkUkxoUGR4UW5FTzFWQVQ5ejloWEtFS0xsVzRRQjIzTEg0az0iLCJkaXNwbGF5X25hbWUiOiJLU0hJVElKIERJTElQIFNBUlZFIiwib21zIjoiSzEiLCJoc21fa2V5IjoiZjk3YmNjODgyZWM5MWUxNDA5NTU3NWE2NGM5MmQ0M2Y4MDkzYmU0MDE5NmIzMGI2YTlmNDU2MWIiLCJmeV9pZCI6IlhLMDMwNjEiLCJhcHBUeXBlIjoxMDAsInBvYV9mbGFnIjoiTiJ9.Fn8VtRBHlDcu8tk0Oi06F0NM4GGYIKM9DaQxIT3KQHw\n"
     ]
    }
   ],
   "source": [
    "print(access_token)"
   ]
  },
  {
   "cell_type": "markdown",
   "metadata": {},
   "source": [
    "to get profile data"
   ]
  },
  {
   "cell_type": "code",
   "execution_count": 7,
   "metadata": {},
   "outputs": [
    {
     "name": "stdout",
     "output_type": "stream",
     "text": [
      "fy_id: XK03061\n",
      "name: KSHITIJ DILIP SARVE\n"
     ]
    }
   ],
   "source": [
    "# Initialize the FyersModel instance with your client_id, access_token, and enable async mode\n",
    "fyers = fyersModel.FyersModel(client_id=client_id, is_async=False, token=access_token, log_path=\"\")\n",
    "\n",
    "# Make a request to get the user profile information\n",
    "response = fyers.get_profile()\n",
    "\n",
    "# Iterate over key-value pairs in the response['data']\n",
    "for key, value in response['data'].items():\n",
    "    if key == 'image':\n",
    "        break\n",
    "    else:\n",
    "        print(f\"{key}: {value}\")\n"
   ]
  },
  {
   "cell_type": "code",
   "execution_count": 8,
   "metadata": {},
   "outputs": [
    {
     "ename": "RuntimeError",
     "evalue": "asyncio.run() cannot be called from a running event loop",
     "output_type": "error",
     "traceback": [
      "\u001b[1;31m---------------------------------------------------------------------------\u001b[0m",
      "\u001b[1;31mRuntimeError\u001b[0m                              Traceback (most recent call last)",
      "Cell \u001b[1;32mIn[8], line 46\u001b[0m\n\u001b[0;32m     43\u001b[0m     asyncio\u001b[38;5;241m.\u001b[39mrun(get_funds_async(client_id, access_token))\n\u001b[0;32m     45\u001b[0m \u001b[38;5;28;01mif\u001b[39;00m \u001b[38;5;18m__name__\u001b[39m \u001b[38;5;241m==\u001b[39m \u001b[38;5;124m\"\u001b[39m\u001b[38;5;124m__main__\u001b[39m\u001b[38;5;124m\"\u001b[39m:\n\u001b[1;32m---> 46\u001b[0m     \u001b[43mmain\u001b[49m\u001b[43m(\u001b[49m\u001b[43m)\u001b[49m\n",
      "Cell \u001b[1;32mIn[8], line 43\u001b[0m, in \u001b[0;36mmain\u001b[1;34m()\u001b[0m\n\u001b[0;32m     39\u001b[0m \u001b[38;5;250m\u001b[39m\u001b[38;5;124;03m\"\"\"\u001b[39;00m\n\u001b[0;32m     40\u001b[0m \u001b[38;5;124;03mEntry point for the script.\u001b[39;00m\n\u001b[0;32m     41\u001b[0m \u001b[38;5;124;03m\"\"\"\u001b[39;00m\n\u001b[0;32m     42\u001b[0m \u001b[38;5;66;03m# Run the asynchronous function using asyncio\u001b[39;00m\n\u001b[1;32m---> 43\u001b[0m \u001b[43masyncio\u001b[49m\u001b[38;5;241;43m.\u001b[39;49m\u001b[43mrun\u001b[49m\u001b[43m(\u001b[49m\u001b[43mget_funds_async\u001b[49m\u001b[43m(\u001b[49m\u001b[43mclient_id\u001b[49m\u001b[43m,\u001b[49m\u001b[43m \u001b[49m\u001b[43maccess_token\u001b[49m\u001b[43m)\u001b[49m\u001b[43m)\u001b[49m\n",
      "File \u001b[1;32mC:\\python\\python3.12.1\\Lib\\asyncio\\runners.py:190\u001b[0m, in \u001b[0;36mrun\u001b[1;34m(main, debug, loop_factory)\u001b[0m\n\u001b[0;32m    161\u001b[0m \u001b[38;5;250m\u001b[39m\u001b[38;5;124;03m\"\"\"Execute the coroutine and return the result.\u001b[39;00m\n\u001b[0;32m    162\u001b[0m \n\u001b[0;32m    163\u001b[0m \u001b[38;5;124;03mThis function runs the passed coroutine, taking care of\u001b[39;00m\n\u001b[1;32m   (...)\u001b[0m\n\u001b[0;32m    186\u001b[0m \u001b[38;5;124;03m    asyncio.run(main())\u001b[39;00m\n\u001b[0;32m    187\u001b[0m \u001b[38;5;124;03m\"\"\"\u001b[39;00m\n\u001b[0;32m    188\u001b[0m \u001b[38;5;28;01mif\u001b[39;00m events\u001b[38;5;241m.\u001b[39m_get_running_loop() \u001b[38;5;129;01mis\u001b[39;00m \u001b[38;5;129;01mnot\u001b[39;00m \u001b[38;5;28;01mNone\u001b[39;00m:\n\u001b[0;32m    189\u001b[0m     \u001b[38;5;66;03m# fail fast with short traceback\u001b[39;00m\n\u001b[1;32m--> 190\u001b[0m     \u001b[38;5;28;01mraise\u001b[39;00m \u001b[38;5;167;01mRuntimeError\u001b[39;00m(\n\u001b[0;32m    191\u001b[0m         \u001b[38;5;124m\"\u001b[39m\u001b[38;5;124masyncio.run() cannot be called from a running event loop\u001b[39m\u001b[38;5;124m\"\u001b[39m)\n\u001b[0;32m    193\u001b[0m \u001b[38;5;28;01mwith\u001b[39;00m Runner(debug\u001b[38;5;241m=\u001b[39mdebug, loop_factory\u001b[38;5;241m=\u001b[39mloop_factory) \u001b[38;5;28;01mas\u001b[39;00m runner:\n\u001b[0;32m    194\u001b[0m     \u001b[38;5;28;01mreturn\u001b[39;00m runner\u001b[38;5;241m.\u001b[39mrun(main)\n",
      "\u001b[1;31mRuntimeError\u001b[0m: asyncio.run() cannot be called from a running event loop"
     ]
    }
   ],
   "source": [
    "import asyncio\n",
    "async def get_funds_async(client_id: str, access_token: str):\n",
    "    \"\"\"\n",
    "    Asynchronously retrieves funds information from the Fyers API.\n",
    "\n",
    "    Args:\n",
    "        client_id (str): Your Fyers API client ID.\n",
    "        access_token (str): Your Fyers API access token.\n",
    "    \"\"\"\n",
    "    try:\n",
    "        # Initialize the FyersModel instance with async mode enabled\n",
    "        fyers = fyersModel.FyersModel(client_id=client_id, token=access_token, is_async=True, log_path=\"\")\n",
    "\n",
    "        # Make an asynchronous request to get the funds information\n",
    "        response = await fyers.funds()\n",
    "\n",
    "        # Debug: Print the raw response\n",
    "        print(\"Raw Response:\", response)\n",
    "\n",
    "        # Check if the response indicates success\n",
    "        if response.get(\"s\") == True:\n",
    "            funds_data = response.get(\"funds\", {})\n",
    "            total_balance = funds_data.get(\"total_balance\", \"N/A\")\n",
    "            available_balance = funds_data.get(\"available_balance\", \"N/A\")\n",
    "            # Add more fields as needed\n",
    "\n",
    "            print(\"\\nFunds Information:\")\n",
    "            print(f\"Total Balance: {total_balance}\")\n",
    "            print(f\"Available Balance: {available_balance}\")\n",
    "            # Print other desired fields\n",
    "        else:\n",
    "            print(\"\\nFailed to retrieve funds data.\")\n",
    "            print(\"Response:\", response)\n",
    "\n",
    "    except Exception as e:\n",
    "        print(f\"\\nAn error occurred while fetching funds: {e}\")\n",
    "\n",
    "def main():\n",
    "    \"\"\"\n",
    "    Entry point for the script.\n",
    "    \"\"\"\n",
    "    # Run the asynchronous function using asyncio\n",
    "    asyncio.run(get_funds_async(client_id, access_token))\n",
    "\n",
    "if __name__ == \"__main__\":\n",
    "    main()"
   ]
  },
  {
   "cell_type": "code",
   "execution_count": 9,
   "metadata": {},
   "outputs": [
    {
     "name": "stdout",
     "output_type": "stream",
     "text": [
      "<coroutine object FyersServiceAsync.get_async_call at 0x0000017731A58400>\n"
     ]
    }
   ],
   "source": [
    "# Initialize the FyersModel instance with your client_id, access_token, and enable async mode\n",
    "fyers = fyersModel.FyersModel(client_id=client_id, token=access_token,is_async=True, log_path=\"\")\n",
    "\n",
    "# Make a request to get the funds information\n",
    "response = fyers.funds()\n",
    "print(response)"
   ]
  },
  {
   "cell_type": "code",
   "execution_count": 10,
   "metadata": {},
   "outputs": [
    {
     "name": "stdout",
     "output_type": "stream",
     "text": [
      "{'code': 200, 'message': '', 's': 'ok', 'overall': {'count_total': 0, 'pnl_perc': 0, 'total_current_value': 0, 'total_investment': 0, 'total_pl': 0}, 'holdings': []}\n"
     ]
    },
    {
     "name": "stderr",
     "output_type": "stream",
     "text": [
      "C:\\Users\\kshit\\AppData\\Local\\Temp\\ipykernel_2376\\1672632540.py:4: RuntimeWarning: coroutine 'FyersServiceAsync.get_async_call' was never awaited\n",
      "  response = fyers.holdings()\n",
      "RuntimeWarning: Enable tracemalloc to get the object allocation traceback\n"
     ]
    }
   ],
   "source": [
    "# Initialize the FyersModel instance with your client_id, access_token, and enable async mode\n",
    "fyers = fyersModel.FyersModel(client_id=client_id, token=access_token,is_async=False, log_path=\"\")\n",
    "\n",
    "response = fyers.holdings()\n",
    "print(response)"
   ]
  },
  {
   "cell_type": "code",
   "execution_count": 11,
   "metadata": {},
   "outputs": [
    {
     "name": "stdout",
     "output_type": "stream",
     "text": [
      "{'code': 200, 'message': '', 's': 'ok', 'orderBook': [{'clientId': 'XK03061', 'exchange': 10, 'fyToken': '101124100847436', 'id': '24100800036547', 'instrument': 14, 'offlineOrder': False, 'source': 'M', 'status': 2, 'type': 2, 'pan': 'NNBPS4876P', 'limitPrice': 19.5, 'productType': 'INTRADAY', 'qty': 25, 'disclosedQty': 0, 'remainingQuantity': 0, 'segment': 11, 'symbol': 'NSE:FINNIFTY24O0823600CE', 'description': '24 Oct 08 23600 CE', 'ex_sym': 'FINNIFTY', 'orderDateTime': '08-Oct-2024 09:27:41', 'side': 1, 'orderValidity': 'DAY', 'stopPrice': 0, 'tradedPrice': 19.5, 'filledQty': 25, 'exchOrdId': '1000000027017799', 'message': '', 'ch': -7.5, 'chp': -99.33774834437087, 'lp': 0.05, 'orderNumStatus': '24100800036547:2', 'slNo': 1, 'orderTag': '2:Untagged'}, {'clientId': 'XK03061', 'exchange': 10, 'fyToken': '101124100847436', 'id': '24100800039154', 'instrument': 14, 'offlineOrder': False, 'source': 'M', 'status': 2, 'type': 2, 'pan': 'NNBPS4876P', 'limitPrice': 24.65, 'productType': 'INTRADAY', 'qty': 25, 'disclosedQty': 0, 'remainingQuantity': 0, 'segment': 11, 'symbol': 'NSE:FINNIFTY24O0823600CE', 'description': '24 Oct 08 23600 CE', 'ex_sym': 'FINNIFTY', 'orderDateTime': '08-Oct-2024 09:28:37', 'side': -1, 'orderValidity': 'DAY', 'stopPrice': 0, 'tradedPrice': 24.65, 'filledQty': 25, 'exchOrdId': '1000000029071365', 'message': '', 'ch': -7.5, 'chp': -99.33774834437087, 'lp': 0.05, 'orderNumStatus': '24100800039154:2', 'slNo': 2, 'orderTag': '2:Untagged'}]}\n"
     ]
    }
   ],
   "source": [
    "# Initialize the FyersModel instance with your client_id, access_token, and enable async mode\n",
    "fyers = fyersModel.FyersModel(client_id=client_id, token=access_token,is_async=False, log_path=\"\")\n",
    "\n",
    "response = fyers.orderbook()\n",
    "print(response)"
   ]
  },
  {
   "cell_type": "code",
   "execution_count": 12,
   "metadata": {},
   "outputs": [
    {
     "name": "stdout",
     "output_type": "stream",
     "text": [
      "{'code': 200, 'message': '', 's': 'ok', 'tradeBook': [{'clientId': 'XK03061', 'exchange': 10, 'fyToken': '101124100847436', 'orderNumber': '24100800039154', 'exchangeOrderNo': '1000000029071365', 'tradeNumber': '24100800039154-2677537', 'tradePrice': 24.65, 'segment': 11, 'productType': 'INTRADAY', 'tradedQty': 25, 'symbol': 'NSE:FINNIFTY24O0823600CE', 'row': 1728359917, 'orderDateTime': '08-Oct-2024 09:28:37', 'tradeValue': 616.25, 'side': -1, 'orderType': 2, 'orderTag': '2:Untagged'}, {'clientId': 'XK03061', 'exchange': 10, 'fyToken': '101124100847436', 'orderNumber': '24100800036547', 'exchangeOrderNo': '1000000027017799', 'tradeNumber': '24100800036547-2525305', 'tradePrice': 19.5, 'segment': 11, 'productType': 'INTRADAY', 'tradedQty': 25, 'symbol': 'NSE:FINNIFTY24O0823600CE', 'row': 1728359861, 'orderDateTime': '08-Oct-2024 09:27:41', 'tradeValue': 487.5, 'side': 1, 'orderType': 2, 'orderTag': '2:Untagged'}]}\n"
     ]
    }
   ],
   "source": [
    "# Initialize the FyersModel instance with your client_id, access_token, and enable async mode\n",
    "fyers = fyersModel.FyersModel(client_id=client_id, token=access_token,is_async=False, log_path=\"\")\n",
    "\n",
    "response = fyers.tradebook()\n",
    "print(response)"
   ]
  },
  {
   "cell_type": "code",
   "execution_count": 16,
   "metadata": {},
   "outputs": [
    {
     "name": "stdout",
     "output_type": "stream",
     "text": [
      "{'code': -99, 'message': \"RED:'MIS' Orders are disallowed after system square off\", 's': 'error', 'id': '24100500005748'}\n"
     ]
    }
   ],
   "source": [
    "# Initialize the FyersModel instance with your client_id, access_token, and enable async mode\n",
    "fyers = fyersModel.FyersModel(client_id=client_id, token=access_token,is_async=False, log_path=\"\")\n",
    "\n",
    "data = {\n",
    "    \"symbol\":\"NSE:ARE&M-EQ\",\n",
    "    \"qty\":1,\n",
    "    \"type\":2,\n",
    "    \"side\":1,\n",
    "    \"productType\":\"INTRADAY\",\n",
    "    \"limitPrice\":0,\n",
    "    \"stopPrice\":0,\n",
    "    \"validity\":\"DAY\",\n",
    "    \"disclosedQty\":0,\n",
    "    \"offlineOrder\":False,\n",
    "    \"orderTag\":\"tag1\"\n",
    "}\n",
    "response = fyers.place_order(data=data)\n",
    "print(response)"
   ]
  },
  {
   "cell_type": "code",
   "execution_count": 25,
   "metadata": {},
   "outputs": [
    {
     "name": "stdout",
     "output_type": "stream",
     "text": [
      "{'code': 200, 'message': '', 'data': [{'statusCode': 200, 'body': {'code': -99, 'message': \"RED:'MIS' Orders are disallowed after system square off\", 's': 'error', 'id': '24100500005770'}, 'statusDescription': 'OK'}, {'statusCode': 200, 'body': {'code': -99, 'message': \"RED:'MIS' Orders are disallowed after system square off\", 's': 'error', 'id': '24100500005771'}, 'statusDescription': 'OK'}, {'statusCode': 200, 'body': {'code': -99, 'message': \"RED:'MIS' Orders are disallowed after system square off\", 's': 'error', 'id': '24100500005772'}, 'statusDescription': 'OK'}, {'statusCode': 200, 'body': {'code': -99, 'message': \"RED:'MIS' Orders are disallowed after system square off\", 's': 'error', 'id': '24100500005773'}, 'statusDescription': 'OK'}], 's': 'ok'}\n"
     ]
    }
   ],
   "source": [
    "fyers = fyersModel.FyersModel(client_id=client_id, token=access_token,is_async=False, log_path=\"\")\n",
    "\n",
    "data = [{\n",
    "    \"symbol\":\"NSE:SBIN-EQ\",\n",
    "    \"qty\":1,\n",
    "    \"type\":2,\n",
    "    \"side\":1,\n",
    "    \"productType\":\"INTRADAY\",\n",
    "    \"limitPrice\":0,\n",
    "    \"stopPrice\":0,\n",
    "    \"validity\":\"DAY\",\n",
    "    \"disclosedQty\":0,\n",
    "    \"offlineOrder\":False,\n",
    "},\n",
    "{\n",
    "    \"symbol\":\"NSE:JUBLFOOD-EQ\",\n",
    "    \"qty\":1,\n",
    "    \"type\":2,\n",
    "    \"side\":1,\n",
    "    \"productType\":\"INTRADAY\",\n",
    "    \"limitPrice\":0,\n",
    "    \"stopPrice\":0,\n",
    "    \"validity\":\"DAY\",\n",
    "    \"disclosedQty\":0,\n",
    "    \"offlineOrder\":False,\n",
    "},{\n",
    "    \"symbol\":\"NSE:DOLPHIN-BE\",\n",
    "    \"qty\":1,\n",
    "    \"type\":2,\n",
    "    \"side\":1,\n",
    "    \"productType\":\"INTRADAY\",\n",
    "    \"limitPrice\":0,\n",
    "    \"stopPrice\":0,\n",
    "    \"validity\":\"DAY\",\n",
    "    \"disclosedQty\":0,\n",
    "    \"offlineOrder\":False,\n",
    "},\n",
    "{\n",
    "    \"symbol\":\"NSE:ARIHANTCAP-EQ\",\n",
    "    \"qty\":1,\n",
    "    \"type\":2,\n",
    "    \"side\":1,\n",
    "    \"productType\":\"INTRADAY\",\n",
    "    \"limitPrice\":0,\n",
    "    \"stopPrice\":0,\n",
    "    \"validity\":\"DAY\",\n",
    "    \"disclosedQty\":0,\n",
    "    \"offlineOrder\":False,\n",
    "}]\n",
    "\n",
    "response = fyers.place_basket_orders(data=data)\n",
    "print(response)"
   ]
  },
  {
   "cell_type": "code",
   "execution_count": 19,
   "metadata": {},
   "outputs": [
    {
     "ename": "SyntaxError",
     "evalue": "unmatched ')' (3163485789.py, line 14)",
     "output_type": "error",
     "traceback": [
      "\u001b[1;36m  Cell \u001b[1;32mIn[19], line 14\u001b[1;36m\u001b[0m\n\u001b[1;33m    print(response))\u001b[0m\n\u001b[1;37m                   ^\u001b[0m\n\u001b[1;31mSyntaxError\u001b[0m\u001b[1;31m:\u001b[0m unmatched ')'\n"
     ]
    }
   ],
   "source": [
    "\n",
    "# Initialize the FyersModel instance with your client_id, access_token, and enable async mode\n",
    "fyers = fyersModel.FyersModel(client_id=client_id, token=access_token,is_async=True, log_path=\"\")\n",
    "\n",
    "\n",
    "orderId = \"8102710298291\"\n",
    "data = {\n",
    "    \"id\":orderId, \n",
    "    \"type\":1, \n",
    "    \"limitPrice\": 61049, \n",
    "    \"qty\":1\n",
    "}\n",
    "\n",
    "response = fyers.modify_order(data=data)\n",
    "print(response))\n"
   ]
  },
  {
   "cell_type": "code",
   "execution_count": 20,
   "metadata": {},
   "outputs": [
    {
     "name": "stdout",
     "output_type": "stream",
     "text": [
      "{'code': -51, 'message': 'invalid order id: 808058117761', 's': 'error', 'id': '808058117761'}\n"
     ]
    }
   ],
   "source": [
    "# Initialize the FyersModel instance with your client_id, access_token, and enable async mode\n",
    "fyers = fyersModel.FyersModel(client_id=client_id, is_async=False, token=access_token, log_path=\"\")\n",
    "\n",
    "\n",
    "data = {\"id\":'808058117761'}\n",
    "\n",
    "response = fyers.cancel_order(data=data)\n",
    "print(response)"
   ]
  },
  {
   "cell_type": "code",
   "execution_count": 21,
   "metadata": {},
   "outputs": [
    {
     "name": "stdout",
     "output_type": "stream",
     "text": [
      "{'code': -352, 'message': 'Looks like you have no open positions.', 's': 'error'}\n"
     ]
    }
   ],
   "source": [
    "# Initialize the FyersModel instance with your client_id, access_token, and enable async mode\n",
    "fyers = fyersModel.FyersModel(client_id=client_id, token=access_token,is_async=False, log_path=\"\")\n",
    "\n",
    "data = {}\n",
    "\n",
    "response = fyers.exit_positions(data=data)\n",
    "\n",
    "print(response)"
   ]
  },
  {
   "cell_type": "code",
   "execution_count": 44,
   "metadata": {},
   "outputs": [
    {
     "name": "stdout",
     "output_type": "stream",
     "text": [
      "{'code': -352, 'message': 'Looks like you have no open positions.', 's': 'error'}\n"
     ]
    }
   ],
   "source": [
    "# Initialize the FyersModel instance with your client_id, access_token, and enable async mode\n",
    "fyers = fyersModel.FyersModel(client_id=client_id, token=access_token,is_async=False, log_path=\"\")\n",
    "\n",
    "data = {\n",
    "    \"id\":\"NSE:SBIN-EQ-BO\"\n",
    "}\n",
    "\n",
    "response = fyers.exit_positions(data=data)\n",
    "print(response)"
   ]
  },
  {
   "cell_type": "code",
   "execution_count": 15,
   "metadata": {},
   "outputs": [
    {
     "name": "stdout",
     "output_type": "stream",
     "text": [
      "{'code': 200, 'message': '', 's': 'ok', 'netPositions': [{'symbol': 'NSE:FINNIFTY24O0823600CE', 'id': 'NSE:FINNIFTY24O0823600CE-INTRADAY', 'buyAvg': 19.5, 'buyQty': 25, 'buyVal': 487.5, 'sellAvg': 24.65, 'sellQty': 25, 'sellVal': 616.25, 'netAvg': 0, 'netQty': 0, 'side': 0, 'qty': 0, 'productType': 'INTRADAY', 'realized_profit': 128.74999999999997, 'crossCurrency': '', 'rbiRefRate': 1, 'fyToken': '101124100847436', 'exchange': 10, 'segment': 11, 'dayBuyQty': 25, 'daySellQty': 25, 'cfBuyQty': 0, 'cfSellQty': 0, 'qtyMulti_com': 1, 'pl': 128.74999999999997, 'unrealized_profit': 0, 'ltp': 0.05, 'slNo': 0}], 'overall': {'count_open': 0, 'count_total': 1, 'pl_realized': 128.74999999999997, 'pl_total': 128.74999999999997, 'pl_unrealized': 0}}\n"
     ]
    }
   ],
   "source": [
    "# Initialize the FyersModel instance with your client_id, access_token, and enable async mode\n",
    "fyers = fyersModel.FyersModel(client_id=client_id, token=access_token,is_async=False, log_path=\"\")\n",
    "\n",
    "response = fyers.positions()\n",
    "print(response)"
   ]
  },
  {
   "cell_type": "code",
   "execution_count": 46,
   "metadata": {},
   "outputs": [
    {
     "name": "stdout",
     "output_type": "stream",
     "text": [
      "{'code': -352, 'message': 'Looks like you have no open positions.', 's': 'error'}\n"
     ]
    }
   ],
   "source": [
    "fyers = fyersModel.FyersModel(client_id=client_id, token=access_token, log_path=\"\")\n",
    "data = {\n",
    "    \"segment\":[10],\n",
    "    \"side\":[1,-1],\n",
    "    \"productType\":[\"INTRADAY\",\"CNC\"]\n",
    "   }\n",
    "\n",
    "response = fyers.exit_positions(data=data)\n",
    "print(response)"
   ]
  },
  {
   "cell_type": "code",
   "execution_count": 47,
   "metadata": {},
   "outputs": [
    {
     "name": "stdout",
     "output_type": "stream",
     "text": [
      "{'code': -53, 'message': 'invalid position id: MCX:SILVERMIC20NOVFUT', 's': 'error'}\n"
     ]
    }
   ],
   "source": [
    "# Initialize the FyersModel instance with your client_id, access_token, and enable async mode\n",
    "fyers = fyersModel.FyersModel(client_id=client_id, token=access_token,is_async=False, log_path=\"\")\n",
    "\n",
    "\n",
    "data = {\n",
    "    \"symbol\":\"MCX:SILVERMIC20NOVFUT\",\n",
    "    \"positionSide\":1,\n",
    "    \"convertQty\":1,\n",
    "    \"convertFrom\":\"INTRADAY\",\n",
    "    \"convertTo\":\"CNC\"\n",
    "}\n",
    "\n",
    "response = fyers.convert_position(data=data)\n",
    "print(response)"
   ]
  },
  {
   "cell_type": "code",
   "execution_count": 13,
   "metadata": {},
   "outputs": [
    {
     "name": "stdout",
     "output_type": "stream",
     "text": [
      "{'code': 200, 'marketStatus': [{'exchange': 10, 'market_type': 'AUCTION', 'segment': 10, 'status': 'CLOSED'}, {'exchange': 10, 'market_type': 'NORMAL', 'segment': 11, 'status': 'CLOSED'}, {'exchange': 10, 'market_type': 'NORMAL', 'segment': 12, 'status': 'CLOSED'}, {'exchange': 10, 'market_type': 'NORMAL', 'segment': 20, 'status': 'CLOSED'}, {'exchange': 10, 'market_type': 'NORMAL', 'segment': 10, 'status': 'POSTCLOSE_CLOSED'}, {'exchange': 10, 'market_type': 'ODD_LOT', 'segment': 10, 'status': 'CLOSED'}, {'exchange': 10, 'market_type': 'CALL_AUCTION2', 'segment': 10, 'status': 'CLOSED'}, {'exchange': 11, 'market_type': 'NORMAL', 'segment': 20, 'status': 'POSTCLOSE_CLOSED'}, {'exchange': 12, 'market_type': 'NORMAL', 'segment': 10, 'status': 'POSTCLOSE_CLOSED'}, {'exchange': 12, 'market_type': 'AUCTION', 'segment': 10, 'status': 'CLOSED'}, {'exchange': 12, 'market_type': 'NORMAL', 'segment': 11, 'status': 'POSTCLOSE_CLOSED'}, {'exchange': 12, 'market_type': 'NORMAL', 'segment': 12, 'status': 'POSTCLOSE_CLOSED'}], 'message': '', 's': 'ok'}\n"
     ]
    }
   ],
   "source": [
    "fyers = fyersModel.FyersModel(client_id=client_id, token=access_token,is_async=False, log_path=\"\")\n",
    "\n",
    "\n",
    "response = fyers.market_status()\n",
    "print(response)"
   ]
  },
  {
   "cell_type": "code",
   "execution_count": 49,
   "metadata": {},
   "outputs": [
    {
     "name": "stdout",
     "output_type": "stream",
     "text": [
      "{'candles': [[1690848000, 620.2, 620.85, 610.6, 611.85, 13493453], [1690934400, 609.85, 610.5, 594.1, 598.45, 14977497], [1691020800, 598.7, 600.85, 585, 590.5, 27774877]], 'code': 200, 'message': '', 's': 'ok'}\n"
     ]
    }
   ],
   "source": [
    "# Initialize the FyersModel instance with your client_id, access_token, and enable async mode\n",
    "fyers = fyersModel.FyersModel(client_id=client_id, is_async=False, token=access_token, log_path=\"\")\n",
    "\n",
    "data = {\n",
    "    \"symbol\":\"NSE:SBIN-EQ\",\n",
    "    \"resolution\":\"D\",\n",
    "    \"date_format\":\"0\",\n",
    "    \"range_from\":\"1690895316\",\n",
    "    \"range_to\":\"1691068173\",\n",
    "    \"cont_flag\":\"1\"\n",
    "}\n",
    "\n",
    "response = fyers.history(data=data)\n",
    "print(response)"
   ]
  },
  {
   "cell_type": "code",
   "execution_count": 14,
   "metadata": {},
   "outputs": [
    {
     "name": "stdout",
     "output_type": "stream",
     "text": [
      "{'code': 200, 'data': {'callOi': 7373450, 'expiryData': [{'date': '31-10-2024', 'expiry': '1730368800'}, {'date': '28-11-2024', 'expiry': '1732788000'}, {'date': '26-12-2024', 'expiry': '1735207200'}], 'indiavixData': {'ask': 0, 'bid': 0, 'description': 'INDIAVIX-INDEX', 'ex_symbol': 'INDIAVIX', 'exchange': 'NSE', 'fyToken': '101000000026017', 'ltp': 14.59, 'ltpch': -0.49, 'ltpchp': -3.25, 'option_type': '', 'strike_price': -1, 'symbol': 'NSE:INDIAVIX-INDEX'}, 'optionsChain': [{'ask': 0, 'bid': 4253.25, 'description': 'TATA CONSULTANCY SERV LT', 'ex_symbol': 'TCS', 'exchange': 'NSE', 'fp': 4253, 'fpch': -16.15, 'fpchp': -0.38, 'fyToken': '101000000011536', 'ltp': 4253.25, 'ltpch': -19.6, 'ltpchp': -0.46, 'option_type': '', 'strike_price': -1, 'symbol': 'NSE:TCS-EQ'}, {'ask': 0, 'bid': 0, 'fyToken': '1011241031126019', 'ltp': 0.3, 'ltpch': 0, 'ltpchp': 0, 'oi': 0, 'oich': 0, 'oichp': 0, 'option_type': 'PE', 'prev_oi': 0, 'strike_price': 3750, 'symbol': 'NSE:TCS24OCT3750PE', 'volume': 0}, {'ask': 0, 'bid': 0, 'fyToken': '1011241031126014', 'ltp': 539.75, 'ltpch': 0, 'ltpchp': 0, 'oi': 0, 'oich': 0, 'oichp': 0, 'option_type': 'CE', 'prev_oi': 0, 'strike_price': 3750, 'symbol': 'NSE:TCS24OCT3750CE', 'volume': 0}, {'ask': 8.6, 'bid': 8.25, 'fyToken': '1011241031103206', 'ltp': 8.5, 'ltpch': 0.1, 'ltpchp': 1.19, 'oi': 335825, 'oich': 15050, 'oichp': 4.69, 'option_type': 'PE', 'prev_oi': 320775, 'strike_price': 3800, 'symbol': 'NSE:TCS24OCT3800PE', 'volume': 241500}, {'ask': 470.95, 'bid': 454.4, 'fyToken': '1011241031103205', 'ltp': 444, 'ltpch': -46.35, 'ltpchp': -9.45, 'oi': 525, 'oich': 0, 'oichp': 0, 'option_type': 'CE', 'prev_oi': 525, 'strike_price': 3800, 'symbol': 'NSE:TCS24OCT3800CE', 'volume': 175}, {'ask': 426.85, 'bid': 399.35, 'fyToken': '1011241031126020', 'ltp': 398.9, 'ltpch': -42.4, 'ltpchp': -9.61, 'oi': 0, 'oich': 0, 'oichp': 0, 'option_type': 'CE', 'prev_oi': 0, 'strike_price': 3850, 'symbol': 'NSE:TCS24OCT3850CE', 'volume': 0}, {'ask': 11.6, 'bid': 11.25, 'fyToken': '1011241031126023', 'ltp': 11.7, 'ltpch': 0.35, 'ltpchp': 3.08, 'oi': 81725, 'oich': 12425, 'oichp': 17.93, 'option_type': 'PE', 'prev_oi': 69300, 'strike_price': 3850, 'symbol': 'NSE:TCS24OCT3850PE', 'volume': 115150}, {'ask': 380.8, 'bid': 356.8, 'fyToken': '1011241031103207', 'ltp': 349.4, 'ltpch': -43.5, 'ltpchp': -11.07, 'oi': 5075, 'oich': 1050, 'oichp': 26.09, 'option_type': 'CE', 'prev_oi': 4025, 'strike_price': 3900, 'symbol': 'NSE:TCS24OCT3900CE', 'volume': 1050}, {'ask': 15.95, 'bid': 14.55, 'fyToken': '1011241031103264', 'ltp': 15.75, 'ltpch': 0.65, 'ltpchp': 4.3, 'oi': 286300, 'oich': 5075, 'oichp': 1.8, 'option_type': 'PE', 'prev_oi': 281225, 'strike_price': 3900, 'symbol': 'NSE:TCS24OCT3900PE', 'volume': 299775}, {'ask': 21.95, 'bid': 19.25, 'fyToken': '1011241031126027', 'ltp': 21.25, 'ltpch': 1.15, 'ltpchp': 5.72, 'oi': 63000, 'oich': 4200, 'oichp': 7.14, 'option_type': 'PE', 'prev_oi': 58800, 'strike_price': 3950, 'symbol': 'NSE:TCS24OCT3950PE', 'volume': 152075}, {'ask': 336.25, 'bid': 314.4, 'fyToken': '1011241031126024', 'ltp': 305.5, 'ltpch': -39.9, 'ltpchp': -11.55, 'oi': 6125, 'oich': 175, 'oichp': 2.94, 'option_type': 'CE', 'prev_oi': 5950, 'strike_price': 3950, 'symbol': 'NSE:TCS24OCT3950CE', 'volume': 175}, {'ask': 295.55, 'bid': 264.95, 'fyToken': '1011241031103265', 'ltp': 284.65, 'ltpch': -11.85, 'ltpchp': -4, 'oi': 43225, 'oich': 5950, 'oichp': 15.96, 'option_type': 'CE', 'prev_oi': 37275, 'strike_price': 4000, 'symbol': 'NSE:TCS24OCT4000CE', 'volume': 16975}, {'ask': 28.95, 'bid': 28.05, 'fyToken': '1011241031103266', 'ltp': 28.75, 'ltpch': 2.05, 'ltpchp': 7.68, 'oi': 526400, 'oich': 30625, 'oichp': 6.18, 'option_type': 'PE', 'prev_oi': 495775, 'strike_price': 4000, 'symbol': 'NSE:TCS24OCT4000PE', 'volume': 555100}, {'ask': 44.2, 'bid': 34.35, 'fyToken': '1011241031126031', 'ltp': 38.15, 'ltpch': 3, 'ltpchp': 8.53, 'oi': 84700, 'oich': -700, 'oichp': -0.82, 'option_type': 'PE', 'prev_oi': 85400, 'strike_price': 4050, 'symbol': 'NSE:TCS24OCT4050PE', 'volume': 147875}, {'ask': 251.25, 'bid': 230.15, 'fyToken': '1011241031126028', 'ltp': 238, 'ltpch': -17.25, 'ltpchp': -6.76, 'oi': 11550, 'oich': 175, 'oichp': 1.54, 'option_type': 'CE', 'prev_oi': 11375, 'strike_price': 4050, 'symbol': 'NSE:TCS24OCT4050CE', 'volume': 525}, {'ask': 209.6, 'bid': 203.05, 'fyToken': '1011241031103267', 'ltp': 203.05, 'ltpch': -12.25, 'ltpchp': -5.69, 'oi': 59150, 'oich': 3500, 'oichp': 6.29, 'option_type': 'CE', 'prev_oi': 55650, 'strike_price': 4100, 'symbol': 'NSE:TCS24OCT4100CE', 'volume': 24500}, {'ask': 52.95, 'bid': 47.05, 'fyToken': '1011241031103272', 'ltp': 49.7, 'ltpch': 3.05, 'ltpchp': 6.54, 'oi': 369600, 'oich': -15750, 'oichp': -4.09, 'option_type': 'PE', 'prev_oi': 385350, 'strike_price': 4100, 'symbol': 'NSE:TCS24OCT4100PE', 'volume': 463750}, {'ask': 66.4, 'bid': 58.1, 'fyToken': '1011241031126035', 'ltp': 65.8, 'ltpch': 5.65, 'ltpchp': 9.39, 'oi': 102025, 'oich': 2275, 'oichp': 2.28, 'option_type': 'PE', 'prev_oi': 99750, 'strike_price': 4150, 'symbol': 'NSE:TCS24OCT4150PE', 'volume': 191625}, {'ask': 171.55, 'bid': 169.15, 'fyToken': '1011241031126032', 'ltp': 169.55, 'ltpch': -10.95, 'ltpchp': -6.07, 'oi': 34300, 'oich': 7350, 'oichp': 27.27, 'option_type': 'CE', 'prev_oi': 26950, 'strike_price': 4150, 'symbol': 'NSE:TCS24OCT4150CE', 'volume': 57050}, {'ask': 84.95, 'bid': 83.9, 'fyToken': '1011241031103289', 'ltp': 84.05, 'ltpch': 6, 'ltpchp': 7.69, 'oi': 567350, 'oich': 13650, 'oichp': 2.47, 'option_type': 'PE', 'prev_oi': 553700, 'strike_price': 4200, 'symbol': 'NSE:TCS24OCT4200PE', 'volume': 883575}, {'ask': 139, 'bid': 138.55, 'fyToken': '1011241031103273', 'ltp': 138.9, 'ltpch': -9.7, 'ltpchp': -6.53, 'oi': 271775, 'oich': 37800, 'oichp': 16.16, 'option_type': 'CE', 'prev_oi': 233975, 'strike_price': 4200, 'symbol': 'NSE:TCS24OCT4200CE', 'volume': 679000}, {'ask': 108.45, 'bid': 106.6, 'fyToken': '1011241031126039', 'ltp': 107.1, 'ltpch': 8.05, 'ltpchp': 8.13, 'oi': 350700, 'oich': 3500, 'oichp': 1.01, 'option_type': 'PE', 'prev_oi': 347200, 'strike_price': 4250, 'symbol': 'NSE:TCS24OCT4250PE', 'volume': 369600}, {'ask': 112, 'bid': 111.55, 'fyToken': '1011241031126036', 'ltp': 111.8, 'ltpch': -8.55, 'ltpchp': -7.1, 'oi': 494550, 'oich': 90300, 'oichp': 22.34, 'option_type': 'CE', 'prev_oi': 404250, 'strike_price': 4250, 'symbol': 'NSE:TCS24OCT4250CE', 'volume': 1074500}, {'ask': 134.9, 'bid': 133.35, 'fyToken': '1011241031103300', 'ltp': 133.5, 'ltpch': 9.2, 'ltpchp': 7.4, 'oi': 673050, 'oich': 3150, 'oichp': 0.47, 'option_type': 'PE', 'prev_oi': 669900, 'strike_price': 4300, 'symbol': 'NSE:TCS24OCT4300PE', 'volume': 411775}, {'ask': 89.5, 'bid': 89, 'fyToken': '1011241031103290', 'ltp': 89, 'ltpch': -6.7, 'ltpchp': -7, 'oi': 1231650, 'oich': 70000, 'oichp': 6.03, 'option_type': 'CE', 'prev_oi': 1161650, 'strike_price': 4300, 'symbol': 'NSE:TCS24OCT4300CE', 'volume': 1631175}, {'ask': 174.7, 'bid': 159.5, 'fyToken': '1011241031126043', 'ltp': 165.25, 'ltpch': 11.95, 'ltpchp': 7.8, 'oi': 160125, 'oich': -1925, 'oichp': -1.19, 'option_type': 'PE', 'prev_oi': 162050, 'strike_price': 4350, 'symbol': 'NSE:TCS24OCT4350PE', 'volume': 35350}, {'ask': 70.7, 'bid': 69.9, 'fyToken': '1011241031126040', 'ltp': 70.6, 'ltpch': -4.85, 'ltpchp': -6.43, 'oi': 536375, 'oich': 23800, 'oichp': 4.64, 'option_type': 'CE', 'prev_oi': 512575, 'strike_price': 4350, 'symbol': 'NSE:TCS24OCT4350CE', 'volume': 397075}, {'ask': 208.05, 'bid': 198, 'fyToken': '1011241031103302', 'ltp': 199.8, 'ltpch': 13.4, 'ltpchp': 7.19, 'oi': 287350, 'oich': -5950, 'oichp': -2.03, 'option_type': 'PE', 'prev_oi': 293300, 'strike_price': 4400, 'symbol': 'NSE:TCS24OCT4400PE', 'volume': 37275}, {'ask': 54.95, 'bid': 54.3, 'fyToken': '1011241031103301', 'ltp': 54.8, 'ltpch': -4.1, 'ltpchp': -6.96, 'oi': 1063475, 'oich': 7525, 'oichp': 0.71, 'option_type': 'CE', 'prev_oi': 1055950, 'strike_price': 4400, 'symbol': 'NSE:TCS24OCT4400CE', 'volume': 873600}, {'ask': 253.45, 'bid': 228.85, 'fyToken': '1011241031126047', 'ltp': 237.45, 'ltpch': 15.05, 'ltpchp': 6.77, 'oi': 64575, 'oich': -3675, 'oichp': -5.38, 'option_type': 'PE', 'prev_oi': 68250, 'strike_price': 4450, 'symbol': 'NSE:TCS24OCT4450PE', 'volume': 5950}, {'ask': 42, 'bid': 41.65, 'fyToken': '1011241031126044', 'ltp': 41.55, 'ltpch': -3.95, 'ltpchp': -8.68, 'oi': 283850, 'oich': 5425, 'oichp': 1.95, 'option_type': 'CE', 'prev_oi': 278425, 'strike_price': 4450, 'symbol': 'NSE:TCS24OCT4450CE', 'volume': 192500}, {'ask': 277.95, 'bid': 269.4, 'fyToken': '1011241031103304', 'ltp': 277.35, 'ltpch': 17.8, 'ltpchp': 6.86, 'oi': 179200, 'oich': 1750, 'oichp': 0.99, 'option_type': 'PE', 'prev_oi': 177450, 'strike_price': 4500, 'symbol': 'NSE:TCS24OCT4500PE', 'volume': 10500}, {'ask': 32.9, 'bid': 32.25, 'fyToken': '1011241031103303', 'ltp': 32.5, 'ltpch': -3.05, 'ltpchp': -8.58, 'oi': 966525, 'oich': -9975, 'oichp': -1.02, 'option_type': 'CE', 'prev_oi': 976500, 'strike_price': 4500, 'symbol': 'NSE:TCS24OCT4500CE', 'volume': 1133650}, {'ask': 321.15, 'bid': 310.35, 'fyToken': '1011241031126051', 'ltp': 329.95, 'ltpch': 26.55, 'ltpchp': 8.75, 'oi': 26600, 'oich': -175, 'oichp': -0.65, 'option_type': 'PE', 'prev_oi': 26775, 'strike_price': 4550, 'symbol': 'NSE:TCS24OCT4550PE', 'volume': 700}, {'ask': 24.9, 'bid': 24.15, 'fyToken': '1011241031126048', 'ltp': 25, 'ltpch': -2.15, 'ltpchp': -7.92, 'oi': 214025, 'oich': -3325, 'oichp': -1.53, 'option_type': 'CE', 'prev_oi': 217350, 'strike_price': 4550, 'symbol': 'NSE:TCS24OCT4550CE', 'volume': 222075}, {'ask': 370.45, 'bid': 351.45, 'fyToken': '1011241031103307', 'ltp': 385, 'ltpch': 39.3, 'ltpchp': 11.37, 'oi': 129850, 'oich': -4025, 'oichp': -3.01, 'option_type': 'PE', 'prev_oi': 133875, 'strike_price': 4600, 'symbol': 'NSE:TCS24OCT4600PE', 'volume': 6825}, {'ask': 19, 'bid': 18.15, 'fyToken': '1011241031103306', 'ltp': 18.95, 'ltpch': -2.05, 'ltpchp': -9.76, 'oi': 510825, 'oich': 5600, 'oichp': 1.11, 'option_type': 'CE', 'prev_oi': 505225, 'strike_price': 4600, 'symbol': 'NSE:TCS24OCT4600CE', 'volume': 382025}, {'ask': 424.3, 'bid': 397, 'fyToken': '1011241031126055', 'ltp': 406, 'ltpch': 43.2, 'ltpchp': 11.91, 'oi': 8575, 'oich': 0, 'oichp': 0, 'option_type': 'PE', 'prev_oi': 8575, 'strike_price': 4650, 'symbol': 'NSE:TCS24OCT4650PE', 'volume': 0}, {'ask': 14.7, 'bid': 14.65, 'fyToken': '1011241031126052', 'ltp': 14.7, 'ltpch': -1.55, 'ltpchp': -9.54, 'oi': 122150, 'oich': 2275, 'oichp': 1.9, 'option_type': 'CE', 'prev_oi': 119875, 'strike_price': 4650, 'symbol': 'NSE:TCS24OCT4650CE', 'volume': 92750}, {'ask': 461.45, 'bid': 444.6, 'fyToken': '1011241031103309', 'ltp': 465, 'ltpch': 54.85, 'ltpchp': 13.37, 'oi': 39375, 'oich': 0, 'oichp': 0, 'option_type': 'PE', 'prev_oi': 39375, 'strike_price': 4700, 'symbol': 'NSE:TCS24OCT4700PE', 'volume': 175}, {'ask': 12.85, 'bid': 11.25, 'fyToken': '1011241031103308', 'ltp': 11.35, 'ltpch': -1.25, 'ltpchp': -9.92, 'oi': 371350, 'oich': 42875, 'oichp': 13.05, 'option_type': 'CE', 'prev_oi': 328475, 'strike_price': 4700, 'symbol': 'NSE:TCS24OCT4700CE', 'volume': 283675}, {'ask': 518.05, 'bid': 490.9, 'fyToken': '1011241031126062', 'ltp': 506, 'ltpch': 47.6, 'ltpchp': 10.38, 'oi': 21875, 'oich': 0, 'oichp': 0, 'option_type': 'PE', 'prev_oi': 21875, 'strike_price': 4750, 'symbol': 'NSE:TCS24OCT4750PE', 'volume': 0}, {'ask': 9.2, 'bid': 9.05, 'fyToken': '1011241031126056', 'ltp': 9.1, 'ltpch': -0.8, 'ltpchp': -8.08, 'oi': 115500, 'oich': 15400, 'oichp': 15.38, 'option_type': 'CE', 'prev_oi': 100100, 'strike_price': 4750, 'symbol': 'NSE:TCS24OCT4750CE', 'volume': 78750}], 'putOi': 4601625}, 'message': '', 's': 'ok'}\n"
     ]
    }
   ],
   "source": [
    "fyers = fyersModel.FyersModel(client_id=client_id, token=access_token,is_async=False, log_path=\"\")\n",
    "data = {\n",
    "    \"symbol\":\"NSE:TCS-EQ\",\n",
    "    \"strikecount\":10,\n",
    "    \"timestamp\": \"\"\n",
    "}\n",
    "response = fyers.optionchain(data=data);\n",
    "print(response)"
   ]
  },
  {
   "cell_type": "code",
   "execution_count": 51,
   "metadata": {},
   "outputs": [
    {
     "ename": "ModuleNotFoundError",
     "evalue": "No module named 'pkg_resources'",
     "output_type": "error",
     "traceback": [
      "\u001b[1;31m---------------------------------------------------------------------------\u001b[0m",
      "\u001b[1;31mModuleNotFoundError\u001b[0m                       Traceback (most recent call last)",
      "Cell \u001b[1;32mIn[51], line 1\u001b[0m\n\u001b[1;32m----> 1\u001b[0m \u001b[38;5;28;01mfrom\u001b[39;00m \u001b[38;5;21;01mfyers_apiv3\u001b[39;00m\u001b[38;5;21;01m.\u001b[39;00m\u001b[38;5;21;01mFyersWebsocket\u001b[39;00m \u001b[38;5;28;01mimport\u001b[39;00m data_ws\n\u001b[0;32m      3\u001b[0m fyers \u001b[38;5;241m=\u001b[39m data_ws\u001b[38;5;241m.\u001b[39mFyersDataSocket(\n\u001b[0;32m      4\u001b[0m     access_token\u001b[38;5;241m=\u001b[39maccess_token,       \u001b[38;5;66;03m# Access token in the format \"appid:accesstoken\"\u001b[39;00m\n\u001b[0;32m      5\u001b[0m     log_path\u001b[38;5;241m=\u001b[39m\u001b[38;5;124m\"\u001b[39m\u001b[38;5;124m\"\u001b[39m,                     \u001b[38;5;66;03m# Path to save logs. Leave empty to auto-create logs in the current directory.\u001b[39;00m\n\u001b[1;32m   (...)\u001b[0m\n\u001b[0;32m     13\u001b[0m     reconnect_retry\u001b[38;5;241m=\u001b[39m\u001b[38;5;241m10\u001b[39m               \u001b[38;5;66;03m# Number of times reconnection will be attepmted in case\u001b[39;00m\n\u001b[0;32m     14\u001b[0m )\n",
      "File \u001b[1;32mc:\\Users\\kshit\\Desktop\\basic\\Django\\.venv\\Lib\\site-packages\\fyers_apiv3\\FyersWebsocket\\data_ws.py:7\u001b[0m\n\u001b[0;32m      4\u001b[0m \u001b[38;5;28;01mimport\u001b[39;00m \u001b[38;5;21;01mtime\u001b[39;00m\n\u001b[0;32m      5\u001b[0m \u001b[38;5;28;01mfrom\u001b[39;00m \u001b[38;5;21;01mtyping\u001b[39;00m \u001b[38;5;28;01mimport\u001b[39;00m Optional, Callable\n\u001b[1;32m----> 7\u001b[0m \u001b[38;5;28;01mfrom\u001b[39;00m \u001b[38;5;21;01mpkg_resources\u001b[39;00m \u001b[38;5;28;01mimport\u001b[39;00m resource_filename\n\u001b[0;32m      8\u001b[0m \u001b[38;5;28;01mimport\u001b[39;00m \u001b[38;5;21;01mrequests\u001b[39;00m\n\u001b[0;32m      9\u001b[0m \u001b[38;5;28;01mimport\u001b[39;00m \u001b[38;5;21;01murllib\u001b[39;00m\u001b[38;5;21;01m.\u001b[39;00m\u001b[38;5;21;01mparse\u001b[39;00m\n",
      "\u001b[1;31mModuleNotFoundError\u001b[0m: No module named 'pkg_resources'"
     ]
    }
   ],
   "source": [
    "from fyers_apiv3.FyersWebsocket import data_ws\n",
    "\n",
    "fyers = data_ws.FyersDataSocket(\n",
    "    access_token=access_token,       # Access token in the format \"appid:accesstoken\"\n",
    "    log_path=\"\",                     # Path to save logs. Leave empty to auto-create logs in the current directory.\n",
    "    litemode=False,                  # Lite mode disabled. Set to True if you want a lite response.\n",
    "    write_to_file=False,              # Save response in a log file instead of printing it.\n",
    "    reconnect=True,                  # Enable auto-reconnection to WebSocket on disconnection.\n",
    "    on_connect=onopen,               # Callback function to subscribe to data upon connection.\n",
    "    on_close=onclose,                # Callback function to handle WebSocket connection close events.\n",
    "    on_error=onerror,                # Callback function to handle WebSocket errors.\n",
    "    on_message=onmessage,            # Callback function to handle incoming messages from the WebSocket.\n",
    "    reconnect_retry=10               # Number of times reconnection will be attepmted in case\n",
    ")"
   ]
  },
  {
   "cell_type": "code",
   "execution_count": 13,
   "metadata": {},
   "outputs": [],
   "source": [
    "import csv\n",
    "\n",
    "with open('data.txt', 'r') as infile, open('instruments.csv', 'w', newline='') as outfile:\n",
    "    reader = csv.reader(infile)\n",
    "    writer = csv.writer(outfile)\n",
    "\n",
    "    header = [\"instrument_token\", \"trading_symbol\", \"instrument_type\", \"lot_size\", \"tick_size\", \"isin\", \"segment\", \"expiry\", \"strike\", \"option_type\", \"exchange_token\", \"exchange\", \"last_price\", \"margin_rate\"]\n",
    "    writer.writerow(header)\n",
    "\n",
    "    for row in reader:\n",
    "        instrument_token = row[0]\n",
    "        trading_symbol = row[1]\n",
    "        instrument_type = row[2]\n",
    "        lot_size = row[3]\n",
    "        tick_size = row[4]\n",
    "        isin = row[5]\n",
    "        segment = 0  # Replace with your actual segment codes\n",
    "        expiry = row[7]\n",
    "        strike = \"\" # Empty string as it was always empty in the original data\n",
    "        option_type = \"\" # Empty string as it was always empty in the original data\n",
    "        exchange_token = row[10]\n",
    "        exchange = \"NSE\" # Extracting only the exchange code\n",
    "        last_price = row[13] # Keeping last price\n",
    "        margin_rate = row[15] # Keeping margin rate\n",
    "\n",
    "        new_row = [instrument_token, trading_symbol, instrument_type, lot_size, tick_size, isin, segment, expiry, strike, option_type, exchange_token, exchange, last_price, margin_rate]\n",
    "        writer.writerow(new_row)"
   ]
  },
  {
   "cell_type": "code",
   "execution_count": 15,
   "metadata": {},
   "outputs": [
    {
     "name": "stdout",
     "output_type": "stream",
     "text": [
      "Data with headers has been successfully written to output_with_headers.xlsx\n"
     ]
    }
   ],
   "source": [
    "import pandas as pd\n",
    "\n",
    "input_file = 'data.txt'\n",
    "\n",
    "# Define your column names based on the data structure\n",
    "column_names = [\n",
    "    'Column1', 'Company Name', 'Column3', 'Column4', 'Column5', \n",
    "    'Column6', 'Trading Hours', 'Date', 'Column9', 'Exchange', \n",
    "    'Column11', 'Column12', 'Column13', 'Short Name', \n",
    "    'Column15', 'Column16', 'Column17', 'Column18', \n",
    "    'Column19', 'Column20', 'Column21'\n",
    "]\n",
    "\n",
    "# Read the data with column names\n",
    "df = pd.read_csv(input_file, header=None, names=column_names)\n",
    "\n",
    "output_file = 'output_with_headers.xlsx'\n",
    "df.to_excel(output_file, index=False, engine='openpyxl')\n",
    "\n",
    "print(f'Data with headers has been successfully written to {output_file}')\n"
   ]
  },
  {
   "cell_type": "code",
   "execution_count": null,
   "metadata": {},
   "outputs": [],
   "source": []
  }
 ],
 "metadata": {
  "kernelspec": {
   "display_name": ".venv",
   "language": "python",
   "name": "python3"
  },
  "language_info": {
   "codemirror_mode": {
    "name": "ipython",
    "version": 3
   },
   "file_extension": ".py",
   "mimetype": "text/x-python",
   "name": "python",
   "nbconvert_exporter": "python",
   "pygments_lexer": "ipython3",
   "version": "3.12.1"
  }
 },
 "nbformat": 4,
 "nbformat_minor": 2
}
